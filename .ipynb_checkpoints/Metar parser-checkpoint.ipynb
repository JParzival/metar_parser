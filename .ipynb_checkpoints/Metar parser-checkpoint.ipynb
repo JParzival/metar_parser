{
 "cells": [
  {
   "cell_type": "code",
   "execution_count": 376,
   "metadata": {},
   "outputs": [],
   "source": [
    "import pandas as pd\n",
    "import requests\n",
    "import json\n",
    "from simplejson import JSONDecodeError\n",
    "import warnings\n",
    "import psycopg2\n",
    "import yaml"
   ]
  },
  {
   "cell_type": "code",
   "execution_count": 381,
   "metadata": {},
   "outputs": [],
   "source": [
    "airports_spain = pd.read_csv('./data/airports_spain.csv')[['ICAO', 'City']]"
   ]
  },
  {
   "cell_type": "code",
   "execution_count": 378,
   "metadata": {},
   "outputs": [],
   "source": [
    "#https://avwx.rest/\n",
    "\n",
    "with open('./keys/keys.yml') as file:\n",
    "    keys = yaml.load(file)\n",
    "\n",
    "headers = {\n",
    "  'Authorization': keys['key1'],\n",
    "  'Content-Type': 'application/json'\n",
    "}\n",
    "\n",
    "headers2 = {\n",
    "  'Authorization': keys['key2'],\n",
    "  'Content-Type': 'application/json'\n",
    "}\n",
    "\n",
    "reporting = \"true\"\n",
    "formatting = \"json\"\n",
    "onfail = \"error\""
   ]
  },
  {
   "cell_type": "code",
   "execution_count": null,
   "metadata": {},
   "outputs": [],
   "source": [
    "conn = psycopg2.connect(\n",
    "    host=\"localhost\",\n",
    "    database=\"suppliers\",\n",
    "    user=keys['pguser'],\n",
    "    password=keys['pgpass'])"
   ]
  },
  {
   "cell_type": "code",
   "execution_count": 379,
   "metadata": {},
   "outputs": [],
   "source": [
    "def parseo (url, city):\n",
    "    \n",
    "    #Request\n",
    "    response = requests.get( url, headers = headers, verify=False )\n",
    "    if response.status_code == 400 or response.status_code == 204:\n",
    "        return None\n",
    "    else:\n",
    "        json_response = json.loads(response.text)\n",
    "\n",
    "        #Parsing\n",
    "        metar = json_response['raw']\n",
    "        station = json_response['station']\n",
    "        pressure = json_response['altimeter']['value']\n",
    "        pressure_unit = json_response['units']['altimeter']\n",
    "        wind_direction = json_response['wind_direction']['value']\n",
    "        wind_unit = 'º'\n",
    "        wind_speed = json_response['wind_speed']['value'] \n",
    "        wind_speed_unit = json_response['units']['wind_speed']\n",
    "        visibility_str = json_response['visibility']['repr']\n",
    "        visibility_number = json_response['visibility']['value']\n",
    "        visibility_unit = json_response['units']['visibility']\n",
    "        temperature = json_response['temperature']['value'] \n",
    "        temperature_unit = json_response['units']['temperature']\n",
    "        remarks = json_response['remarks']\n",
    "        flight_rules = json_response['flight_rules']\n",
    "        time = json_response['time']['dt']\n",
    "\n",
    "        clouds = []\n",
    "        if not json_response['clouds']:\n",
    "            clouds = [\"No clouds\"]\n",
    "        else:\n",
    "            for element in json_response['clouds']:\n",
    "                clouds.append(element['repr'])\n",
    "        if json_response['wind_gust'] == None:\n",
    "            json_response['wind_gust'] = 0\n",
    "        wind_gust = json_response['wind_gust']\n",
    "        wind_gust_unit = json_response['units']['wind_speed']\n",
    "        try: \n",
    "            wind_direction_var_1 = json_response['wind_variable_direction'][0]['value']\n",
    "            wind_direction_var_1_unit = 'º'\n",
    "        except:\n",
    "            wind_direction_var_1 = None\n",
    "            wind_direction_var_1_unit = None\n",
    "        try: \n",
    "            wind_direction_var_2 = json_response['wind_variable_direction'][1]['value']\n",
    "            wind_direction_var_2_unit = 'º'\n",
    "        except:\n",
    "            wind_direction_var_2 = None\n",
    "            wind_direction_var_2_unit = None\n",
    "\n",
    "        #Storing\n",
    "        readyforinsertion = {\n",
    "            'metar': metar,\n",
    "            'time': time,\n",
    "            'station': station,\n",
    "            'city': city,\n",
    "            'pressure': pressure,\n",
    "            'pressure_unit': pressure_unit,\n",
    "            'clouds': clouds,\n",
    "            'wind_direction': wind_direction,\n",
    "            'wind_unit': wind_unit,\n",
    "            'wind_speed': wind_speed,\n",
    "            'wind_speed_unit': wind_speed_unit,\n",
    "            'wind_direction_var_1': wind_direction_var_1,\n",
    "            'wind_direction_var_1_unit': wind_direction_var_1_unit,\n",
    "            'wind_direction_var_2': wind_direction_var_2,\n",
    "            'wind_direction_var_2_unit': wind_direction_var_2_unit,\n",
    "            'visibility_str': visibility_str,\n",
    "            'visibility_number': visibility_number,\n",
    "            'visibility_unit': visibility_unit,\n",
    "            'temperature': temperature,\n",
    "            'temperature_unit': temperature_unit,\n",
    "            'remarks': remarks,\n",
    "            'flight_rules': flight_rules\n",
    "        }\n",
    "        return readyforinsertion"
   ]
  },
  {
   "cell_type": "code",
   "execution_count": null,
   "metadata": {},
   "outputs": [],
   "source": [
    "with open('./sql.yml') as file:\n",
    "    sql_sentences = yaml.load(file)\n",
    "\n",
    "#cur = conn.cursor()\n",
    "#cur.execute(sql_sentences['create_table'])\n",
    "#conn.commit()\n",
    "#cur.close()"
   ]
  },
  {
   "cell_type": "code",
   "execution_count": 380,
   "metadata": {},
   "outputs": [
    {
     "name": "stdout",
     "output_type": "stream",
     "text": [
      "{'metar': 'GCFV 091700Z 04018KT 9999 SCT025 26/20 Q1015', 'time': '2020-08-09T17:00:00Z', 'station': 'GCFV', 'city': 'Fuerteventura', 'pressure': 1015, 'pressure_unit': 'hPa', 'clouds': ['SCT025'], 'wind_direction': 40, 'wind_unit': 'º', 'wind_speed': 18, 'wind_speed_unit': 'kt', 'wind_direction_var_1': None, 'wind_direction_var_1_unit': None, 'wind_direction_var_2': None, 'wind_direction_var_2_unit': None, 'visibility_str': '9999', 'visibility_number': 9999, 'visibility_unit': 'm', 'temperature': 26, 'temperature_unit': 'C', 'remarks': '', 'flight_rules': 'VFR'}\n",
      "{'metar': 'GCHI 091700Z 35019KT 9999 FEW017 SCT022 25/20 Q1017', 'time': '2020-08-09T17:00:00Z', 'station': 'GCHI', 'city': 'Hierro', 'pressure': 1017, 'pressure_unit': 'hPa', 'clouds': ['FEW017', 'SCT022'], 'wind_direction': 350, 'wind_unit': 'º', 'wind_speed': 19, 'wind_speed_unit': 'kt', 'wind_direction_var_1': None, 'wind_direction_var_1_unit': None, 'wind_direction_var_2': None, 'wind_direction_var_2_unit': None, 'visibility_str': '9999', 'visibility_number': 9999, 'visibility_unit': 'm', 'temperature': 25, 'temperature_unit': 'C', 'remarks': '', 'flight_rules': 'VFR'}\n",
      "{'metar': 'GCLA 091700Z 01013KT 340V050 9999 BKN022 25/20 Q1018', 'time': '2020-08-09T17:00:00Z', 'station': 'GCLA', 'city': 'Santa Cruz De La Palma', 'pressure': 1018, 'pressure_unit': 'hPa', 'clouds': ['BKN022'], 'wind_direction': 10, 'wind_unit': 'º', 'wind_speed': 13, 'wind_speed_unit': 'kt', 'wind_direction_var_1': 340, 'wind_direction_var_1_unit': 'º', 'wind_direction_var_2': 50, 'wind_direction_var_2_unit': 'º', 'visibility_str': '9999', 'visibility_number': 9999, 'visibility_unit': 'm', 'temperature': 25, 'temperature_unit': 'C', 'remarks': '', 'flight_rules': 'MVFR'}\n",
      "{'metar': 'GCLP 091700Z 02027KT 9999 FEW025 26/17 Q1015 NOSIG', 'time': '2020-08-09T17:00:00Z', 'station': 'GCLP', 'city': 'Gran Canaria', 'pressure': 1015, 'pressure_unit': 'hPa', 'clouds': ['FEW025'], 'wind_direction': 20, 'wind_unit': 'º', 'wind_speed': 27, 'wind_speed_unit': 'kt', 'wind_direction_var_1': None, 'wind_direction_var_1_unit': None, 'wind_direction_var_2': None, 'wind_direction_var_2_unit': None, 'visibility_str': '9999', 'visibility_number': 9999, 'visibility_unit': 'm', 'temperature': 26, 'temperature_unit': 'C', 'remarks': 'NOSIG', 'flight_rules': 'VFR'}\n",
      "{'metar': 'GCRR 091700Z 02021KT 350V050 9999 FEW020 26/19 Q1015', 'time': '2020-08-09T17:00:00Z', 'station': 'GCRR', 'city': 'Arrecife', 'pressure': 1015, 'pressure_unit': 'hPa', 'clouds': ['FEW020'], 'wind_direction': 20, 'wind_unit': 'º', 'wind_speed': 21, 'wind_speed_unit': 'kt', 'wind_direction_var_1': 350, 'wind_direction_var_1_unit': 'º', 'wind_direction_var_2': 50, 'wind_direction_var_2_unit': 'º', 'visibility_str': '9999', 'visibility_number': 9999, 'visibility_unit': 'm', 'temperature': 26, 'temperature_unit': 'C', 'remarks': '', 'flight_rules': 'VFR'}\n",
      "{'metar': 'GCTS 091700Z 10013KT 060V120 9999 FEW025 27/18 Q1016 WS R07 NOSIG', 'time': '2020-08-09T17:00:00Z', 'station': 'GCTS', 'city': 'Tenerife', 'pressure': 1016, 'pressure_unit': 'hPa', 'clouds': ['FEW025'], 'wind_direction': 100, 'wind_unit': 'º', 'wind_speed': 13, 'wind_speed_unit': 'kt', 'wind_direction_var_1': 60, 'wind_direction_var_1_unit': 'º', 'wind_direction_var_2': 120, 'wind_direction_var_2_unit': 'º', 'visibility_str': '9999', 'visibility_number': 9999, 'visibility_unit': 'm', 'temperature': 27, 'temperature_unit': 'C', 'remarks': 'WS R07 NOSIG', 'flight_rules': 'VFR'}\n",
      "{'metar': 'GCXO 091700Z 30017KT 9999 FEW018 21/16 Q1019 NOSIG', 'time': '2020-08-09T17:00:00Z', 'station': 'GCXO', 'city': 'Tenerife', 'pressure': 1019, 'pressure_unit': 'hPa', 'clouds': ['FEW018'], 'wind_direction': 300, 'wind_unit': 'º', 'wind_speed': 17, 'wind_speed_unit': 'kt', 'wind_direction_var_1': None, 'wind_direction_var_1_unit': None, 'wind_direction_var_2': None, 'wind_direction_var_2_unit': None, 'visibility_str': '9999', 'visibility_number': 9999, 'visibility_unit': 'm', 'temperature': 21, 'temperature_unit': 'C', 'remarks': 'NOSIG', 'flight_rules': 'VFR'}\n",
      "{'metar': 'GEML 091700Z 07004KT 350V150 9999 FEW007 28/23 Q1012', 'time': '2020-08-09T17:00:00Z', 'station': 'GEML', 'city': 'Melilla', 'pressure': 1012, 'pressure_unit': 'hPa', 'clouds': ['FEW007'], 'wind_direction': 70, 'wind_unit': 'º', 'wind_speed': 4, 'wind_speed_unit': 'kt', 'wind_direction_var_1': 350, 'wind_direction_var_1_unit': 'º', 'wind_direction_var_2': 150, 'wind_direction_var_2_unit': 'º', 'visibility_str': '9999', 'visibility_number': 9999, 'visibility_unit': 'm', 'temperature': 28, 'temperature_unit': 'C', 'remarks': '', 'flight_rules': 'VFR'}\n",
      "{'metar': 'LEAB 091700Z 16010KT 130V190 CAVOK 36/06 Q1015 NOSIG', 'time': '2020-08-09T17:00:00Z', 'station': 'LEAB', 'city': 'Albacete', 'pressure': 1015, 'pressure_unit': 'hPa', 'clouds': ['No clouds'], 'wind_direction': 160, 'wind_unit': 'º', 'wind_speed': 10, 'wind_speed_unit': 'kt', 'wind_direction_var_1': 130, 'wind_direction_var_1_unit': 'º', 'wind_direction_var_2': 190, 'wind_direction_var_2_unit': 'º', 'visibility_str': 'CAVOK', 'visibility_number': 9999, 'visibility_unit': 'm', 'temperature': 36, 'temperature_unit': 'C', 'remarks': 'NOSIG', 'flight_rules': 'VFR'}\n",
      "{'metar': 'LEAL 091700Z 10005KT 050V160 CAVOK 30/19 Q1013 NOSIG', 'time': '2020-08-09T17:00:00Z', 'station': 'LEAL', 'city': 'Alicante', 'pressure': 1013, 'pressure_unit': 'hPa', 'clouds': ['No clouds'], 'wind_direction': 100, 'wind_unit': 'º', 'wind_speed': 5, 'wind_speed_unit': 'kt', 'wind_direction_var_1': 50, 'wind_direction_var_1_unit': 'º', 'wind_direction_var_2': 160, 'wind_direction_var_2_unit': 'º', 'visibility_str': 'CAVOK', 'visibility_number': 9999, 'visibility_unit': 'm', 'temperature': 30, 'temperature_unit': 'C', 'remarks': 'NOSIG', 'flight_rules': 'VFR'}\n",
      "{'metar': 'LEAM 091700Z 23008KT 200V260 CAVOK 29/25 Q1012', 'time': '2020-08-09T17:00:00Z', 'station': 'LEAM', 'city': 'Almeria', 'pressure': 1012, 'pressure_unit': 'hPa', 'clouds': ['No clouds'], 'wind_direction': 230, 'wind_unit': 'º', 'wind_speed': 8, 'wind_speed_unit': 'kt', 'wind_direction_var_1': 200, 'wind_direction_var_1_unit': 'º', 'wind_direction_var_2': 260, 'wind_direction_var_2_unit': 'º', 'visibility_str': 'CAVOK', 'visibility_number': 9999, 'visibility_unit': 'm', 'temperature': 29, 'temperature_unit': 'C', 'remarks': '', 'flight_rules': 'VFR'}\n",
      "{'metar': 'LEAS 091700Z 31007KT 280V350 9999 OVC018 21/18 Q1015 NOSIG', 'time': '2020-08-09T17:00:00Z', 'station': 'LEAS', 'city': 'Aviles', 'pressure': 1015, 'pressure_unit': 'hPa', 'clouds': ['OVC018'], 'wind_direction': 310, 'wind_unit': 'º', 'wind_speed': 7, 'wind_speed_unit': 'kt', 'wind_direction_var_1': 280, 'wind_direction_var_1_unit': 'º', 'wind_direction_var_2': 350, 'wind_direction_var_2_unit': 'º', 'visibility_str': '9999', 'visibility_number': 9999, 'visibility_unit': 'm', 'temperature': 21, 'temperature_unit': 'C', 'remarks': 'NOSIG', 'flight_rules': 'MVFR'}\n",
      "{'metar': 'LEBA 091700Z 26009KT 220V290 CAVOK 38/12 Q1010', 'time': '2020-08-09T17:00:00Z', 'station': 'LEBA', 'city': 'Cordoba', 'pressure': 1010, 'pressure_unit': 'hPa', 'clouds': ['No clouds'], 'wind_direction': 260, 'wind_unit': 'º', 'wind_speed': 9, 'wind_speed_unit': 'kt', 'wind_direction_var_1': 220, 'wind_direction_var_1_unit': 'º', 'wind_direction_var_2': 290, 'wind_direction_var_2_unit': 'º', 'visibility_str': 'CAVOK', 'visibility_number': 9999, 'visibility_unit': 'm', 'temperature': 38, 'temperature_unit': 'C', 'remarks': '', 'flight_rules': 'VFR'}\n",
      "{'metar': 'LEBB 091700Z 29008KT 260V320 9999 BKN015 24/21 Q1014 NOSIG', 'time': '2020-08-09T17:00:00Z', 'station': 'LEBB', 'city': 'Bilbao', 'pressure': 1014, 'pressure_unit': 'hPa', 'clouds': ['BKN015'], 'wind_direction': 290, 'wind_unit': 'º', 'wind_speed': 8, 'wind_speed_unit': 'kt', 'wind_direction_var_1': 260, 'wind_direction_var_1_unit': 'º', 'wind_direction_var_2': 320, 'wind_direction_var_2_unit': 'º', 'visibility_str': '9999', 'visibility_number': 9999, 'visibility_unit': 'm', 'temperature': 24, 'temperature_unit': 'C', 'remarks': 'NOSIG', 'flight_rules': 'MVFR'}\n",
      "{'metar': 'LEBL 091700Z 20006KT 160V220 9999 FEW030 29/23 Q1015 NOSIG', 'time': '2020-08-09T17:00:00Z', 'station': 'LEBL', 'city': 'Barcelona', 'pressure': 1015, 'pressure_unit': 'hPa', 'clouds': ['FEW030'], 'wind_direction': 200, 'wind_unit': 'º', 'wind_speed': 6, 'wind_speed_unit': 'kt', 'wind_direction_var_1': 160, 'wind_direction_var_1_unit': 'º', 'wind_direction_var_2': 220, 'wind_direction_var_2_unit': 'º', 'visibility_str': '9999', 'visibility_number': 9999, 'visibility_unit': 'm', 'temperature': 29, 'temperature_unit': 'C', 'remarks': 'NOSIG', 'flight_rules': 'VFR'}\n"
     ]
    },
    {
     "name": "stdout",
     "output_type": "stream",
     "text": [
      "{'metar': 'LEBZ 091700Z 29012KT 250V310 CAVOK 35/12 Q1012', 'time': '2020-08-09T17:00:00Z', 'station': 'LEBZ', 'city': 'Badajoz', 'pressure': 1012, 'pressure_unit': 'hPa', 'clouds': ['No clouds'], 'wind_direction': 290, 'wind_unit': 'º', 'wind_speed': 12, 'wind_speed_unit': 'kt', 'wind_direction_var_1': 250, 'wind_direction_var_1_unit': 'º', 'wind_direction_var_2': 310, 'wind_direction_var_2_unit': 'º', 'visibility_str': 'CAVOK', 'visibility_number': 9999, 'visibility_unit': 'm', 'temperature': 35, 'temperature_unit': 'C', 'remarks': '', 'flight_rules': 'VFR'}\n",
      "{'metar': 'LECO 091700Z 02007KT 330V070 9999 FEW018 OVC025 21/18 Q1016 NOSIG', 'time': '2020-08-09T17:00:00Z', 'station': 'LECO', 'city': 'La Coruna', 'pressure': 1016, 'pressure_unit': 'hPa', 'clouds': ['FEW018', 'OVC025'], 'wind_direction': 20, 'wind_unit': 'º', 'wind_speed': 7, 'wind_speed_unit': 'kt', 'wind_direction_var_1': 330, 'wind_direction_var_1_unit': 'º', 'wind_direction_var_2': 70, 'wind_direction_var_2_unit': 'º', 'visibility_str': '9999', 'visibility_number': 9999, 'visibility_unit': 'm', 'temperature': 21, 'temperature_unit': 'C', 'remarks': 'NOSIG', 'flight_rules': 'MVFR'}\n",
      "Airport LEGA data not found\n",
      "{'metar': 'LEGE 091700Z 28006KT 230V330 9999 FEW070 25/19 Q1015', 'time': '2020-08-09T17:00:00Z', 'station': 'LEGE', 'city': 'Gerona', 'pressure': 1015, 'pressure_unit': 'hPa', 'clouds': ['FEW070'], 'wind_direction': 280, 'wind_unit': 'º', 'wind_speed': 6, 'wind_speed_unit': 'kt', 'wind_direction_var_1': 230, 'wind_direction_var_1_unit': 'º', 'wind_direction_var_2': 330, 'wind_direction_var_2_unit': 'º', 'visibility_str': '9999', 'visibility_number': 9999, 'visibility_unit': 'm', 'temperature': 25, 'temperature_unit': 'C', 'remarks': '', 'flight_rules': 'VFR'}\n",
      "{'metar': 'LEGR 091700Z 25010KT 230V290 9999 FEW080TCU 40/06 Q1014', 'time': '2020-08-09T17:00:00Z', 'station': 'LEGR', 'city': 'Granada', 'pressure': 1014, 'pressure_unit': 'hPa', 'clouds': ['FEW080TCU'], 'wind_direction': 250, 'wind_unit': 'º', 'wind_speed': 10, 'wind_speed_unit': 'kt', 'wind_direction_var_1': 230, 'wind_direction_var_1_unit': 'º', 'wind_direction_var_2': 290, 'wind_direction_var_2_unit': 'º', 'visibility_str': '9999', 'visibility_number': 9999, 'visibility_unit': 'm', 'temperature': 40, 'temperature_unit': 'C', 'remarks': '', 'flight_rules': 'VFR'}\n",
      "{'metar': 'LEGT 091700Z 22008KT 170V260 9999 FEW045 39/08 Q1013', 'time': '2020-08-09T17:00:00Z', 'station': 'LEGT', 'city': 'Madrid', 'pressure': 1013, 'pressure_unit': 'hPa', 'clouds': ['FEW045'], 'wind_direction': 220, 'wind_unit': 'º', 'wind_speed': 8, 'wind_speed_unit': 'kt', 'wind_direction_var_1': 170, 'wind_direction_var_1_unit': 'º', 'wind_direction_var_2': 260, 'wind_direction_var_2_unit': 'º', 'visibility_str': '9999', 'visibility_number': 9999, 'visibility_unit': 'm', 'temperature': 39, 'temperature_unit': 'C', 'remarks': '', 'flight_rules': 'VFR'}\n",
      "{'metar': 'LEIB 091700Z 10005KT 070V140 CAVOK 29/21 Q1014 NOSIG', 'time': '2020-08-09T17:00:00Z', 'station': 'LEIB', 'city': 'Ibiza', 'pressure': 1014, 'pressure_unit': 'hPa', 'clouds': ['No clouds'], 'wind_direction': 100, 'wind_unit': 'º', 'wind_speed': 5, 'wind_speed_unit': 'kt', 'wind_direction_var_1': 70, 'wind_direction_var_1_unit': 'º', 'wind_direction_var_2': 140, 'wind_direction_var_2_unit': 'º', 'visibility_str': 'CAVOK', 'visibility_number': 9999, 'visibility_unit': 'm', 'temperature': 29, 'temperature_unit': 'C', 'remarks': 'NOSIG', 'flight_rules': 'VFR'}\n",
      "{'metar': 'LEJR 091700Z 23010KT 200V260 CAVOK 32/21 Q1012', 'time': '2020-08-09T17:00:00Z', 'station': 'LEJR', 'city': 'Jerez', 'pressure': 1012, 'pressure_unit': 'hPa', 'clouds': ['No clouds'], 'wind_direction': 230, 'wind_unit': 'º', 'wind_speed': 10, 'wind_speed_unit': 'kt', 'wind_direction_var_1': 200, 'wind_direction_var_1_unit': 'º', 'wind_direction_var_2': 260, 'wind_direction_var_2_unit': 'º', 'visibility_str': 'CAVOK', 'visibility_number': 9999, 'visibility_unit': 'm', 'temperature': 32, 'temperature_unit': 'C', 'remarks': '', 'flight_rules': 'VFR'}\n",
      "{'metar': 'LELC 091700Z 09004KT 020V150 CAVOK 30/21 Q1013 NOSIG', 'time': '2020-08-09T17:00:00Z', 'station': 'LELC', 'city': 'Murcia', 'pressure': 1013, 'pressure_unit': 'hPa', 'clouds': ['No clouds'], 'wind_direction': 90, 'wind_unit': 'º', 'wind_speed': 4, 'wind_speed_unit': 'kt', 'wind_direction_var_1': 20, 'wind_direction_var_1_unit': 'º', 'wind_direction_var_2': 150, 'wind_direction_var_2_unit': 'º', 'visibility_str': 'CAVOK', 'visibility_number': 9999, 'visibility_unit': 'm', 'temperature': 30, 'temperature_unit': 'C', 'remarks': 'NOSIG', 'flight_rules': 'VFR'}\n",
      "{'metar': 'LEMD 091700Z 20009KT 150V240 9999 FEW065 39/07 Q1013 NOSIG', 'time': '2020-08-09T17:00:00Z', 'station': 'LEMD', 'city': 'Madrid', 'pressure': 1013, 'pressure_unit': 'hPa', 'clouds': ['FEW065'], 'wind_direction': 200, 'wind_unit': 'º', 'wind_speed': 9, 'wind_speed_unit': 'kt', 'wind_direction_var_1': 150, 'wind_direction_var_1_unit': 'º', 'wind_direction_var_2': 240, 'wind_direction_var_2_unit': 'º', 'visibility_str': '9999', 'visibility_number': 9999, 'visibility_unit': 'm', 'temperature': 39, 'temperature_unit': 'C', 'remarks': 'NOSIG', 'flight_rules': 'VFR'}\n",
      "{'metar': 'LEMG 091700Z 13008KT CAVOK 31/15 Q1012 NOSIG', 'time': '2020-08-09T17:00:00Z', 'station': 'LEMG', 'city': 'Malaga', 'pressure': 1012, 'pressure_unit': 'hPa', 'clouds': ['No clouds'], 'wind_direction': 130, 'wind_unit': 'º', 'wind_speed': 8, 'wind_speed_unit': 'kt', 'wind_direction_var_1': None, 'wind_direction_var_1_unit': None, 'wind_direction_var_2': None, 'wind_direction_var_2_unit': None, 'visibility_str': 'CAVOK', 'visibility_number': 9999, 'visibility_unit': 'm', 'temperature': 31, 'temperature_unit': 'C', 'remarks': 'NOSIG', 'flight_rules': 'VFR'}\n",
      "{'metar': 'LEMH 091700Z 21004KT 140V270 CAVOK 29/18 Q1015', 'time': '2020-08-09T17:00:00Z', 'station': 'LEMH', 'city': 'Menorca', 'pressure': 1015, 'pressure_unit': 'hPa', 'clouds': ['No clouds'], 'wind_direction': 210, 'wind_unit': 'º', 'wind_speed': 4, 'wind_speed_unit': 'kt', 'wind_direction_var_1': 140, 'wind_direction_var_1_unit': 'º', 'wind_direction_var_2': 270, 'wind_direction_var_2_unit': 'º', 'visibility_str': 'CAVOK', 'visibility_number': 9999, 'visibility_unit': 'm', 'temperature': 29, 'temperature_unit': 'C', 'remarks': '', 'flight_rules': 'VFR'}\n",
      "{'metar': 'LEMO 091700Z 27008KT 210V330 CAVOK 36/19 Q1011 NOSIG', 'time': '2020-08-09T17:00:00Z', 'station': 'LEMO', 'city': 'Sevilla', 'pressure': 1011, 'pressure_unit': 'hPa', 'clouds': ['No clouds'], 'wind_direction': 270, 'wind_unit': 'º', 'wind_speed': 8, 'wind_speed_unit': 'kt', 'wind_direction_var_1': 210, 'wind_direction_var_1_unit': 'º', 'wind_direction_var_2': 330, 'wind_direction_var_2_unit': 'º', 'visibility_str': 'CAVOK', 'visibility_number': 9999, 'visibility_unit': 'm', 'temperature': 36, 'temperature_unit': 'C', 'remarks': 'NOSIG', 'flight_rules': 'VFR'}\n",
      "Airport LEOC data not found\n",
      "{'metar': 'LEPP 091700Z 19005KT 160V230 9999 SCT040CB BKN050TCU 34/12 Q1013', 'time': '2020-08-09T17:00:00Z', 'station': 'LEPP', 'city': 'Pamplona', 'pressure': 1013, 'pressure_unit': 'hPa', 'clouds': ['SCT040CB', 'BKN050TCU'], 'wind_direction': 190, 'wind_unit': 'º', 'wind_speed': 5, 'wind_speed_unit': 'kt', 'wind_direction_var_1': 160, 'wind_direction_var_1_unit': 'º', 'wind_direction_var_2': 230, 'wind_direction_var_2_unit': 'º', 'visibility_str': '9999', 'visibility_number': 9999, 'visibility_unit': 'm', 'temperature': 34, 'temperature_unit': 'C', 'remarks': '', 'flight_rules': 'VFR'}\n",
      "{'metar': 'LERI 091700Z 11010KT 070V150 9999 FEW042 36/09 Q1012 NOSIG', 'time': '2020-08-09T17:00:00Z', 'station': 'LERI', 'city': 'Murcia', 'pressure': 1012, 'pressure_unit': 'hPa', 'clouds': ['FEW042'], 'wind_direction': 110, 'wind_unit': 'º', 'wind_speed': 10, 'wind_speed_unit': 'kt', 'wind_direction_var_1': 70, 'wind_direction_var_1_unit': 'º', 'wind_direction_var_2': 150, 'wind_direction_var_2_unit': 'º', 'visibility_str': '9999', 'visibility_number': 9999, 'visibility_unit': 'm', 'temperature': 36, 'temperature_unit': 'C', 'remarks': 'NOSIG', 'flight_rules': 'VFR'}\n",
      "{'metar': 'LERS 091700Z 16003KT 100V250 9999 FEW030 28/22 Q1015', 'time': '2020-08-09T17:00:00Z', 'station': 'LERS', 'city': 'Reus', 'pressure': 1015, 'pressure_unit': 'hPa', 'clouds': ['FEW030'], 'wind_direction': 160, 'wind_unit': 'º', 'wind_speed': 3, 'wind_speed_unit': 'kt', 'wind_direction_var_1': 100, 'wind_direction_var_1_unit': 'º', 'wind_direction_var_2': 250, 'wind_direction_var_2_unit': 'º', 'visibility_str': '9999', 'visibility_number': 9999, 'visibility_unit': 'm', 'temperature': 28, 'temperature_unit': 'C', 'remarks': '', 'flight_rules': 'VFR'}\n"
     ]
    },
    {
     "name": "stdout",
     "output_type": "stream",
     "text": [
      "{'metar': 'LERT 091700Z 27007KT 230V320 CAVOK 26/22 Q1012 NOSIG', 'time': '2020-08-09T17:00:00Z', 'station': 'LERT', 'city': 'Rota', 'pressure': 1012, 'pressure_unit': 'hPa', 'clouds': ['No clouds'], 'wind_direction': 270, 'wind_unit': 'º', 'wind_speed': 7, 'wind_speed_unit': 'kt', 'wind_direction_var_1': 230, 'wind_direction_var_1_unit': 'º', 'wind_direction_var_2': 320, 'wind_direction_var_2_unit': 'º', 'visibility_str': 'CAVOK', 'visibility_number': 9999, 'visibility_unit': 'm', 'temperature': 26, 'temperature_unit': 'C', 'remarks': 'NOSIG', 'flight_rules': 'VFR'}\n",
      "{'metar': 'LESA 091700Z 23012KT 200V260 9999 FEW035 35/05 Q1015', 'time': '2020-08-09T17:00:00Z', 'station': 'LESA', 'city': 'Salamanca', 'pressure': 1015, 'pressure_unit': 'hPa', 'clouds': ['FEW035'], 'wind_direction': 230, 'wind_unit': 'º', 'wind_speed': 12, 'wind_speed_unit': 'kt', 'wind_direction_var_1': 200, 'wind_direction_var_1_unit': 'º', 'wind_direction_var_2': 260, 'wind_direction_var_2_unit': 'º', 'visibility_str': '9999', 'visibility_number': 9999, 'visibility_unit': 'm', 'temperature': 35, 'temperature_unit': 'C', 'remarks': '', 'flight_rules': 'VFR'}\n",
      "{'metar': 'LESB 091700Z AUTO 21007KT 170V240 CAVOK 30/17 Q1015', 'time': '2020-08-09T17:00:00Z', 'station': 'LESB', 'city': 'Son Bonet', 'pressure': 1015, 'pressure_unit': 'hPa', 'clouds': ['No clouds'], 'wind_direction': 210, 'wind_unit': 'º', 'wind_speed': 7, 'wind_speed_unit': 'kt', 'wind_direction_var_1': 170, 'wind_direction_var_1_unit': 'º', 'wind_direction_var_2': 240, 'wind_direction_var_2_unit': 'º', 'visibility_str': 'CAVOK', 'visibility_number': 9999, 'visibility_unit': 'm', 'temperature': 30, 'temperature_unit': 'C', 'remarks': '', 'flight_rules': 'VFR'}\n",
      "Airport LESL data not found\n",
      "{'metar': 'LESO 091700Z 30008KT 250V350 9999 FEW015 SCT018 26/21 Q1013', 'time': '2020-08-09T17:00:00Z', 'station': 'LESO', 'city': 'San Sebastian', 'pressure': 1013, 'pressure_unit': 'hPa', 'clouds': ['FEW015', 'SCT018'], 'wind_direction': 300, 'wind_unit': 'º', 'wind_speed': 8, 'wind_speed_unit': 'kt', 'wind_direction_var_1': 250, 'wind_direction_var_1_unit': 'º', 'wind_direction_var_2': 350, 'wind_direction_var_2_unit': 'º', 'visibility_str': '9999', 'visibility_number': 9999, 'visibility_unit': 'm', 'temperature': 26, 'temperature_unit': 'C', 'remarks': '', 'flight_rules': 'VFR'}\n",
      "{'metar': 'LEST 091700Z 35011KT 320V020 9999 FEW035 24/17 Q1016 NOSIG', 'time': '2020-08-09T17:00:00Z', 'station': 'LEST', 'city': 'Santiago', 'pressure': 1016, 'pressure_unit': 'hPa', 'clouds': ['FEW035'], 'wind_direction': 350, 'wind_unit': 'º', 'wind_speed': 11, 'wind_speed_unit': 'kt', 'wind_direction_var_1': 320, 'wind_direction_var_1_unit': 'º', 'wind_direction_var_2': 20, 'wind_direction_var_2_unit': 'º', 'visibility_str': '9999', 'visibility_number': 9999, 'visibility_unit': 'm', 'temperature': 24, 'temperature_unit': 'C', 'remarks': 'NOSIG', 'flight_rules': 'VFR'}\n",
      "{'metar': 'LESU 091700Z 26006KT 200V330 9999 -SHRA VCTS SCT055CB SCT060TCU 18/16 Q1024', 'time': '2020-08-09T17:00:00Z', 'station': 'LESU', 'city': 'Seo De Urgel', 'pressure': 1024, 'pressure_unit': 'hPa', 'clouds': ['SCT055CB', 'SCT060TCU'], 'wind_direction': 260, 'wind_unit': 'º', 'wind_speed': 6, 'wind_speed_unit': 'kt', 'wind_direction_var_1': 200, 'wind_direction_var_1_unit': 'º', 'wind_direction_var_2': 330, 'wind_direction_var_2_unit': 'º', 'visibility_str': '9999', 'visibility_number': 9999, 'visibility_unit': 'm', 'temperature': 18, 'temperature_unit': 'C', 'remarks': '', 'flight_rules': 'VFR'}\n",
      "{'metar': 'LETO 091700Z 26012KT 230V290 9999 FEW069TCU 38/09 Q1013 NOSIG', 'time': '2020-08-09T17:00:00Z', 'station': 'LETO', 'city': 'Madrid', 'pressure': 1013, 'pressure_unit': 'hPa', 'clouds': ['FEW069TCU'], 'wind_direction': 260, 'wind_unit': 'º', 'wind_speed': 12, 'wind_speed_unit': 'kt', 'wind_direction_var_1': 230, 'wind_direction_var_1_unit': 'º', 'wind_direction_var_2': 290, 'wind_direction_var_2_unit': 'º', 'visibility_str': '9999', 'visibility_number': 9999, 'visibility_unit': 'm', 'temperature': 38, 'temperature_unit': 'C', 'remarks': 'NOSIG', 'flight_rules': 'VFR'}\n",
      "{'metar': 'LEVC 091700Z 08010KT 030V120 CAVOK 31/21 Q1013 NOSIG', 'time': '2020-08-09T17:00:00Z', 'station': 'LEVC', 'city': 'Valencia', 'pressure': 1013, 'pressure_unit': 'hPa', 'clouds': ['No clouds'], 'wind_direction': 80, 'wind_unit': 'º', 'wind_speed': 10, 'wind_speed_unit': 'kt', 'wind_direction_var_1': 30, 'wind_direction_var_1_unit': 'º', 'wind_direction_var_2': 120, 'wind_direction_var_2_unit': 'º', 'visibility_str': 'CAVOK', 'visibility_number': 9999, 'visibility_unit': 'm', 'temperature': 31, 'temperature_unit': 'C', 'remarks': 'NOSIG', 'flight_rules': 'VFR'}\n",
      "{'metar': 'LEVD 091700Z 26008KT 230V290 CAVOK 33/07 Q1015', 'time': '2020-08-09T17:00:00Z', 'station': 'LEVD', 'city': 'Valladolid', 'pressure': 1015, 'pressure_unit': 'hPa', 'clouds': ['No clouds'], 'wind_direction': 260, 'wind_unit': 'º', 'wind_speed': 8, 'wind_speed_unit': 'kt', 'wind_direction_var_1': 230, 'wind_direction_var_1_unit': 'º', 'wind_direction_var_2': 290, 'wind_direction_var_2_unit': 'º', 'visibility_str': 'CAVOK', 'visibility_number': 9999, 'visibility_unit': 'm', 'temperature': 33, 'temperature_unit': 'C', 'remarks': '', 'flight_rules': 'VFR'}\n",
      "{'metar': 'LEVT 091700Z 01009KT 330V060 9999 SCT040TCU 31/21 Q1014', 'time': '2020-08-09T17:00:00Z', 'station': 'LEVT', 'city': 'Vitoria', 'pressure': 1014, 'pressure_unit': 'hPa', 'clouds': ['SCT040TCU'], 'wind_direction': 10, 'wind_unit': 'º', 'wind_speed': 9, 'wind_speed_unit': 'kt', 'wind_direction_var_1': 330, 'wind_direction_var_1_unit': 'º', 'wind_direction_var_2': 60, 'wind_direction_var_2_unit': 'º', 'visibility_str': '9999', 'visibility_number': 9999, 'visibility_unit': 'm', 'temperature': 31, 'temperature_unit': 'C', 'remarks': '', 'flight_rules': 'VFR'}\n",
      "{'metar': 'LEVX 091700Z 26007KT 220V310 CAVOK 22/17 Q1015 NOSIG', 'time': '2020-08-09T17:00:00Z', 'station': 'LEVX', 'city': 'Vigo', 'pressure': 1015, 'pressure_unit': 'hPa', 'clouds': ['No clouds'], 'wind_direction': 260, 'wind_unit': 'º', 'wind_speed': 7, 'wind_speed_unit': 'kt', 'wind_direction_var_1': 220, 'wind_direction_var_1_unit': 'º', 'wind_direction_var_2': 310, 'wind_direction_var_2_unit': 'º', 'visibility_str': 'CAVOK', 'visibility_number': 9999, 'visibility_unit': 'm', 'temperature': 22, 'temperature_unit': 'C', 'remarks': 'NOSIG', 'flight_rules': 'VFR'}\n",
      "{'metar': 'LEXJ 091700Z 29006KT 250V340 9999 SCT016 OVC027 23/20 Q1014', 'time': '2020-08-09T17:00:00Z', 'station': 'LEXJ', 'city': 'Santander', 'pressure': 1014, 'pressure_unit': 'hPa', 'clouds': ['SCT016', 'OVC027'], 'wind_direction': 290, 'wind_unit': 'º', 'wind_speed': 6, 'wind_speed_unit': 'kt', 'wind_direction_var_1': 250, 'wind_direction_var_1_unit': 'º', 'wind_direction_var_2': 340, 'wind_direction_var_2_unit': 'º', 'visibility_str': '9999', 'visibility_number': 9999, 'visibility_unit': 'm', 'temperature': 23, 'temperature_unit': 'C', 'remarks': '', 'flight_rules': 'MVFR'}\n",
      "{'metar': 'LEZG 091700Z 12014G25KT 080V160 9999 FEW085 38/11 Q1011', 'time': '2020-08-09T17:00:00Z', 'station': 'LEZG', 'city': 'Zaragoza', 'pressure': 1011, 'pressure_unit': 'hPa', 'clouds': ['FEW085'], 'wind_direction': 120, 'wind_unit': 'º', 'wind_speed': 14, 'wind_speed_unit': 'kt', 'wind_direction_var_1': 80, 'wind_direction_var_1_unit': 'º', 'wind_direction_var_2': 160, 'wind_direction_var_2_unit': 'º', 'visibility_str': '9999', 'visibility_number': 9999, 'visibility_unit': 'm', 'temperature': 38, 'temperature_unit': 'C', 'remarks': '', 'flight_rules': 'VFR'}\n",
      "{'metar': 'LEZL 091700Z 23008KT 190V260 CAVOK 36/19 Q1010 NOSIG', 'time': '2020-08-09T17:00:00Z', 'station': 'LEZL', 'city': 'Sevilla', 'pressure': 1010, 'pressure_unit': 'hPa', 'clouds': ['No clouds'], 'wind_direction': 230, 'wind_unit': 'º', 'wind_speed': 8, 'wind_speed_unit': 'kt', 'wind_direction_var_1': 190, 'wind_direction_var_1_unit': 'º', 'wind_direction_var_2': 260, 'wind_direction_var_2_unit': 'º', 'visibility_str': 'CAVOK', 'visibility_number': 9999, 'visibility_unit': 'm', 'temperature': 36, 'temperature_unit': 'C', 'remarks': 'NOSIG', 'flight_rules': 'VFR'}\n",
      "{'metar': 'LEPA 091700Z 23007KT CAVOK 31/18 Q1014 NOSIG', 'time': '2020-08-09T17:00:00Z', 'station': 'LEPA', 'city': 'Palma de Mallorca', 'pressure': 1014, 'pressure_unit': 'hPa', 'clouds': ['No clouds'], 'wind_direction': 230, 'wind_unit': 'º', 'wind_speed': 7, 'wind_speed_unit': 'kt', 'wind_direction_var_1': None, 'wind_direction_var_1_unit': None, 'wind_direction_var_2': None, 'wind_direction_var_2_unit': None, 'visibility_str': 'CAVOK', 'visibility_number': 9999, 'visibility_unit': 'm', 'temperature': 31, 'temperature_unit': 'C', 'remarks': 'NOSIG', 'flight_rules': 'VFR'}\n"
     ]
    },
    {
     "name": "stdout",
     "output_type": "stream",
     "text": [
      "{'metar': 'GCGM 091700Z 23010KT 9999 FEW012 25/20 Q1017 RMK R09/24007KT 180V350 ARP/23010KT 190V270', 'time': '2020-08-09T17:00:00Z', 'station': 'GCGM', 'city': 'La Gomera', 'pressure': 1017, 'pressure_unit': 'hPa', 'clouds': ['FEW012'], 'wind_direction': 230, 'wind_unit': 'º', 'wind_speed': 10, 'wind_speed_unit': 'kt', 'wind_direction_var_1': None, 'wind_direction_var_1_unit': None, 'wind_direction_var_2': None, 'wind_direction_var_2_unit': None, 'visibility_str': '9999', 'visibility_number': 9999, 'visibility_unit': 'm', 'temperature': 25, 'temperature_unit': 'C', 'remarks': 'RMK R09/24007KT 180V350 ARP/23010KT 190V270', 'flight_rules': 'VFR'}\n",
      "{'metar': 'LELO 091700Z VRB03KT 9999 FEW045CB 28/21 Q1012', 'time': '2020-08-09T17:00:00Z', 'station': 'LELO', 'city': 'Logroño-Agoncillo', 'pressure': 1012, 'pressure_unit': 'hPa', 'clouds': ['FEW045CB'], 'wind_direction': None, 'wind_unit': 'º', 'wind_speed': 3, 'wind_speed_unit': 'kt', 'wind_direction_var_1': None, 'wind_direction_var_1_unit': None, 'wind_direction_var_2': None, 'wind_direction_var_2_unit': None, 'visibility_str': '9999', 'visibility_number': 9999, 'visibility_unit': 'm', 'temperature': 28, 'temperature_unit': 'C', 'remarks': '', 'flight_rules': 'VFR'}\n",
      "{'metar': 'LELN 091700Z 14006KT 100V180 9999 FEW050CB 31/06 Q1015', 'time': '2020-08-09T17:00:00Z', 'station': 'LELN', 'city': 'Leon', 'pressure': 1015, 'pressure_unit': 'hPa', 'clouds': ['FEW050CB'], 'wind_direction': 140, 'wind_unit': 'º', 'wind_speed': 6, 'wind_speed_unit': 'kt', 'wind_direction_var_1': 100, 'wind_direction_var_1_unit': 'º', 'wind_direction_var_2': 180, 'wind_direction_var_2_unit': 'º', 'visibility_str': '9999', 'visibility_number': 9999, 'visibility_unit': 'm', 'temperature': 31, 'temperature_unit': 'C', 'remarks': '', 'flight_rules': 'VFR'}\n",
      "{'metar': 'LEBG 091700Z 26008KT 230V310 9999 FEW042 32/03 Q1015', 'time': '2020-08-09T17:00:00Z', 'station': 'LEBG', 'city': 'Burgos', 'pressure': 1015, 'pressure_unit': 'hPa', 'clouds': ['FEW042'], 'wind_direction': 260, 'wind_unit': 'º', 'wind_speed': 8, 'wind_speed_unit': 'kt', 'wind_direction_var_1': 230, 'wind_direction_var_1_unit': 'º', 'wind_direction_var_2': 310, 'wind_direction_var_2_unit': 'º', 'visibility_str': '9999', 'visibility_number': 9999, 'visibility_unit': 'm', 'temperature': 32, 'temperature_unit': 'C', 'remarks': '', 'flight_rules': 'VFR'}\n",
      "{'metar': 'LELL 091700Z 17003KT 100V200 9999 FEW070 FEW120CB 34/17 Q1015', 'time': '2020-08-09T17:00:00Z', 'station': 'LELL', 'city': 'Sabadell', 'pressure': 1015, 'pressure_unit': 'hPa', 'clouds': ['FEW070', 'FEW120CB'], 'wind_direction': 170, 'wind_unit': 'º', 'wind_speed': 3, 'wind_speed_unit': 'kt', 'wind_direction_var_1': 100, 'wind_direction_var_1_unit': 'º', 'wind_direction_var_2': 200, 'wind_direction_var_2_unit': 'º', 'visibility_str': '9999', 'visibility_number': 9999, 'visibility_unit': 'm', 'temperature': 34, 'temperature_unit': 'C', 'remarks': '', 'flight_rules': 'VFR'}\n",
      "{'metar': 'LEDA 091700Z AUTO 12013KT CAVOK 33/11 Q1015', 'time': '2020-08-09T17:00:00Z', 'station': 'LEDA', 'city': 'Lleida', 'pressure': 1015, 'pressure_unit': 'hPa', 'clouds': ['No clouds'], 'wind_direction': 120, 'wind_unit': 'º', 'wind_speed': 13, 'wind_speed_unit': 'kt', 'wind_direction_var_1': None, 'wind_direction_var_1_unit': None, 'wind_direction_var_2': None, 'wind_direction_var_2_unit': None, 'visibility_str': 'CAVOK', 'visibility_number': 9999, 'visibility_unit': 'm', 'temperature': 33, 'temperature_unit': 'C', 'remarks': '', 'flight_rules': 'VFR'}\n",
      "{'metar': 'LEHC 091700Z 13012KT 080V160 CAVOK 33/13 Q1015', 'time': '2020-08-09T17:00:00Z', 'station': 'LEHC', 'city': 'Huesca', 'pressure': 1015, 'pressure_unit': 'hPa', 'clouds': ['No clouds'], 'wind_direction': 130, 'wind_unit': 'º', 'wind_speed': 12, 'wind_speed_unit': 'kt', 'wind_direction_var_1': 80, 'wind_direction_var_1_unit': 'º', 'wind_direction_var_2': 160, 'wind_direction_var_2_unit': 'º', 'visibility_str': 'CAVOK', 'visibility_number': 9999, 'visibility_unit': 'm', 'temperature': 33, 'temperature_unit': 'C', 'remarks': '', 'flight_rules': 'VFR'}\n",
      "Airport LERL data not found\n",
      "Airport LECD data not found\n",
      "Airport LEFM data not found\n",
      "Airport SVSJ data not found\n",
      "Airport LECU data not found\n",
      "Airport LEDS data not found\n",
      "{'metar': 'LETL 091700Z AUTO 18016KT 150V210 CAVOK 33/09 Q1017', 'time': '2020-08-09T17:00:00Z', 'station': 'LETL', 'city': 'Teruel', 'pressure': 1017, 'pressure_unit': 'hPa', 'clouds': ['No clouds'], 'wind_direction': 180, 'wind_unit': 'º', 'wind_speed': 16, 'wind_speed_unit': 'kt', 'wind_direction_var_1': 150, 'wind_direction_var_1_unit': 'º', 'wind_direction_var_2': 210, 'wind_direction_var_2_unit': 'º', 'visibility_str': 'CAVOK', 'visibility_number': 9999, 'visibility_unit': 'm', 'temperature': 33, 'temperature_unit': 'C', 'remarks': '', 'flight_rules': 'VFR'}\n",
      "{'metar': 'LEAG 091700Z AUTO 15009KT 130V200 CAVOK 25/22 Q1013', 'time': '2020-08-09T17:00:00Z', 'station': 'LEAG', 'city': 'Algeciras', 'pressure': 1013, 'pressure_unit': 'hPa', 'clouds': ['No clouds'], 'wind_direction': 150, 'wind_unit': 'º', 'wind_speed': 9, 'wind_speed_unit': 'kt', 'wind_direction_var_1': 130, 'wind_direction_var_1_unit': 'º', 'wind_direction_var_2': 200, 'wind_direction_var_2_unit': 'º', 'visibility_str': 'CAVOK', 'visibility_number': 9999, 'visibility_unit': 'm', 'temperature': 25, 'temperature_unit': 'C', 'remarks': '', 'flight_rules': 'VFR'}\n",
      "{'metar': 'LEMI 091700Z 10008KT 070V150 CAVOK 33/14 Q1014', 'time': '2020-08-09T17:00:00Z', 'station': 'LEMI', 'city': 'Murcia', 'pressure': 1014, 'pressure_unit': 'hPa', 'clouds': ['No clouds'], 'wind_direction': 100, 'wind_unit': 'º', 'wind_speed': 8, 'wind_speed_unit': 'kt', 'wind_direction_var_1': 70, 'wind_direction_var_1_unit': 'º', 'wind_direction_var_2': 150, 'wind_direction_var_2_unit': 'º', 'visibility_str': 'CAVOK', 'visibility_number': 9999, 'visibility_unit': 'm', 'temperature': 33, 'temperature_unit': 'C', 'remarks': '', 'flight_rules': 'VFR'}\n"
     ]
    }
   ],
   "source": [
    "warnings.simplefilter(\"ignore\")\n",
    "\n",
    "for airport in airports_spain.itertuples():\n",
    "    url = \"https://avwx.rest/api/metar/\" + airport[1] + \"?reporting=\" + reporting + \"&format=\" + formatting + \"&onfail=\" + onfail\n",
    "    data = parseo(url, airport[2])\n",
    "    if data == None:\n",
    "        print('Airport ' + airport[1] + ' data not found')\n",
    "        continue\n",
    "    else:\n",
    "        print(data)\n",
    "        #cur = conn.cursor()\n",
    "        #cur.execute(sql_sentences['insert_table'], values)\n",
    "        #conn.commit()\n",
    "        #cur.close()"
   ]
  },
  {
   "cell_type": "code",
   "execution_count": null,
   "metadata": {},
   "outputs": [],
   "source": [
    "conn.close()"
   ]
  }
 ],
 "metadata": {
  "kernelspec": {
   "display_name": "Python 3",
   "language": "python",
   "name": "python3"
  },
  "language_info": {
   "codemirror_mode": {
    "name": "ipython",
    "version": 3
   },
   "file_extension": ".py",
   "mimetype": "text/x-python",
   "name": "python",
   "nbconvert_exporter": "python",
   "pygments_lexer": "ipython3",
   "version": "3.8.2"
  }
 },
 "nbformat": 4,
 "nbformat_minor": 4
}
