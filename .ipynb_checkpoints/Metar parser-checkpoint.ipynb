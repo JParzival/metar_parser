{
 "cells": [
  {
   "cell_type": "code",
   "execution_count": 50,
   "metadata": {},
   "outputs": [],
   "source": [
    "import pandas as pd\n",
    "import requests\n",
    "import json"
   ]
  },
  {
   "cell_type": "code",
   "execution_count": 51,
   "metadata": {},
   "outputs": [],
   "source": [
    "icao = \"LESA\"\n",
    "\n",
    "headers = {\n",
    "  'Authorization': '9i_2jhslVkeBcH5w-zAlv6RaQjkXF3epc7Ly_O6mtvQ',\n",
    "  'Content-Type': 'application/json'\n",
    "}\n",
    "\n",
    "reporting = \"true\"\n",
    "formatting = \"json\"\n",
    "onfail = \"error\""
   ]
  },
  {
   "cell_type": "code",
   "execution_count": 52,
   "metadata": {},
   "outputs": [],
   "source": [
    "url = \"https://avwx.rest/api/metar/\" + icao + \"?reporting=\" + reporting + \"&format=\" + formatting + \"&onfail=\" + onfail"
   ]
  },
  {
   "cell_type": "code",
   "execution_count": 53,
   "metadata": {},
   "outputs": [
    {
     "name": "stderr",
     "output_type": "stream",
     "text": [
      "c:\\users\\jorge\\appdata\\local\\programs\\python\\python38-32\\lib\\site-packages\\urllib3\\connectionpool.py:979: InsecureRequestWarning: Unverified HTTPS request is being made to host 'avwx.rest'. Adding certificate verification is strongly advised. See: https://urllib3.readthedocs.io/en/latest/advanced-usage.html#ssl-warnings\n",
      "  warnings.warn(\n"
     ]
    }
   ],
   "source": [
    "response = requests.get( url, headers = headers, verify=False )"
   ]
  },
  {
   "cell_type": "code",
   "execution_count": 54,
   "metadata": {},
   "outputs": [],
   "source": [
    "json_response = json.loads(response.text)"
   ]
  },
  {
   "cell_type": "code",
   "execution_count": 57,
   "metadata": {},
   "outputs": [
    {
     "data": {
      "text/plain": [
       "{'meta': {'timestamp': '2020-08-09T11:00:07.331491Z',\n",
       "  'stations_updated': '2020-07-30'},\n",
       " 'altimeter': {'repr': 'Q1018', 'value': 1018, 'spoken': 'one zero one eight'},\n",
       " 'clouds': [],\n",
       " 'flight_rules': 'VFR',\n",
       " 'other': [],\n",
       " 'sanitized': 'LESA 091030Z 25013KT 210V270 CAVOK 32/11 Q1018',\n",
       " 'visibility': {'repr': 'CAVOK',\n",
       "  'value': 9999,\n",
       "  'spoken': 'ceiling and visibility ok'},\n",
       " 'wind_direction': {'repr': '250', 'value': 250, 'spoken': 'two five zero'},\n",
       " 'wind_gust': None,\n",
       " 'wind_speed': {'repr': '13', 'value': 13, 'spoken': 'one three'},\n",
       " 'wx_codes': [],\n",
       " 'raw': 'LESA 091030Z 25013KT 210V270 CAVOK 32/11 Q1018',\n",
       " 'station': 'LESA',\n",
       " 'time': {'repr': '091030Z', 'dt': '2020-08-09T10:30:00Z'},\n",
       " 'remarks': '',\n",
       " 'dewpoint': {'repr': '11', 'value': 11, 'spoken': 'one one'},\n",
       " 'remarks_info': {'dewpoint_decimal': None, 'temperature_decimal': None},\n",
       " 'runway_visibility': [],\n",
       " 'temperature': {'repr': '32', 'value': 32, 'spoken': 'three two'},\n",
       " 'wind_variable_direction': [{'repr': '210',\n",
       "   'value': 210,\n",
       "   'spoken': 'two one zero'},\n",
       "  {'repr': '270', 'value': 270, 'spoken': 'two seven zero'}],\n",
       " 'units': {'altimeter': 'hPa',\n",
       "  'altitude': 'ft',\n",
       "  'temperature': 'C',\n",
       "  'visibility': 'm',\n",
       "  'wind_speed': 'kt'}}"
      ]
     },
     "execution_count": 57,
     "metadata": {},
     "output_type": "execute_result"
    }
   ],
   "source": [
    "json_response"
   ]
  },
  {
   "cell_type": "code",
   "execution_count": 60,
   "metadata": {},
   "outputs": [
    {
     "data": {
      "text/plain": [
       "'LESA 091030Z 25013KT 210V270 CAVOK 32/11 Q1018'"
      ]
     },
     "execution_count": 60,
     "metadata": {},
     "output_type": "execute_result"
    }
   ],
   "source": [
    "json_response['raw']"
   ]
  },
  {
   "cell_type": "code",
   "execution_count": 61,
   "metadata": {},
   "outputs": [
    {
     "data": {
      "text/plain": [
       "1018"
      ]
     },
     "execution_count": 61,
     "metadata": {},
     "output_type": "execute_result"
    }
   ],
   "source": [
    "json_response['altimeter']['value']"
   ]
  },
  {
   "cell_type": "code",
   "execution_count": 62,
   "metadata": {},
   "outputs": [
    {
     "data": {
      "text/plain": [
       "[]"
      ]
     },
     "execution_count": 62,
     "metadata": {},
     "output_type": "execute_result"
    }
   ],
   "source": [
    "json_response['clouds']"
   ]
  },
  {
   "cell_type": "code",
   "execution_count": 63,
   "metadata": {},
   "outputs": [
    {
     "data": {
      "text/plain": [
       "250"
      ]
     },
     "execution_count": 63,
     "metadata": {},
     "output_type": "execute_result"
    }
   ],
   "source": [
    "json_response['wind_direction']['value']"
   ]
  },
  {
   "cell_type": "code",
   "execution_count": 64,
   "metadata": {},
   "outputs": [
    {
     "data": {
      "text/plain": [
       "13"
      ]
     },
     "execution_count": 64,
     "metadata": {},
     "output_type": "execute_result"
    }
   ],
   "source": [
    "json_response['wind_speed']['value']"
   ]
  },
  {
   "cell_type": "code",
   "execution_count": 65,
   "metadata": {},
   "outputs": [],
   "source": [
    "json_response['wind_gust']"
   ]
  },
  {
   "cell_type": "code",
   "execution_count": null,
   "metadata": {},
   "outputs": [],
   "source": []
  },
  {
   "cell_type": "code",
   "execution_count": 66,
   "metadata": {},
   "outputs": [
    {
     "data": {
      "text/plain": [
       "32"
      ]
     },
     "execution_count": 66,
     "metadata": {},
     "output_type": "execute_result"
    }
   ],
   "source": [
    "json_response['temperature']['value']"
   ]
  },
  {
   "cell_type": "code",
   "execution_count": null,
   "metadata": {},
   "outputs": [],
   "source": []
  }
 ],
 "metadata": {
  "kernelspec": {
   "display_name": "Python 3",
   "language": "python",
   "name": "python3"
  },
  "language_info": {
   "codemirror_mode": {
    "name": "ipython",
    "version": 3
   },
   "file_extension": ".py",
   "mimetype": "text/x-python",
   "name": "python",
   "nbconvert_exporter": "python",
   "pygments_lexer": "ipython3",
   "version": "3.8.2"
  }
 },
 "nbformat": 4,
 "nbformat_minor": 4
}
