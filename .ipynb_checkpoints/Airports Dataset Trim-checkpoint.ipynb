{
 "cells": [
  {
   "cell_type": "code",
   "execution_count": 1,
   "metadata": {},
   "outputs": [],
   "source": [
    "import pandas as pd"
   ]
  },
  {
   "cell_type": "code",
   "execution_count": 7,
   "metadata": {},
   "outputs": [
    {
     "data": {
      "text/html": [
       "<div>\n",
       "<style scoped>\n",
       "    .dataframe tbody tr th:only-of-type {\n",
       "        vertical-align: middle;\n",
       "    }\n",
       "\n",
       "    .dataframe tbody tr th {\n",
       "        vertical-align: top;\n",
       "    }\n",
       "\n",
       "    .dataframe thead th {\n",
       "        text-align: right;\n",
       "    }\n",
       "</style>\n",
       "<table border=\"1\" class=\"dataframe\">\n",
       "  <thead>\n",
       "    <tr style=\"text-align: right;\">\n",
       "      <th></th>\n",
       "      <th>id</th>\n",
       "      <th>Name</th>\n",
       "      <th>Name2</th>\n",
       "      <th>Country</th>\n",
       "      <th>IATA</th>\n",
       "      <th>ICAO</th>\n",
       "      <th>Unnamed: 6</th>\n",
       "      <th>Unnamed: 7</th>\n",
       "    </tr>\n",
       "  </thead>\n",
       "  <tbody>\n",
       "    <tr>\n",
       "      <th>0</th>\n",
       "      <td>1</td>\n",
       "      <td>Goroka Airport</td>\n",
       "      <td>Goroka</td>\n",
       "      <td>Papua New Guinea</td>\n",
       "      <td>GKA</td>\n",
       "      <td>AYGA</td>\n",
       "      <td>NaN</td>\n",
       "      <td>NaN</td>\n",
       "    </tr>\n",
       "    <tr>\n",
       "      <th>1</th>\n",
       "      <td>2</td>\n",
       "      <td>Madang Airport</td>\n",
       "      <td>Madang</td>\n",
       "      <td>Papua New Guinea</td>\n",
       "      <td>MAG</td>\n",
       "      <td>AYMD</td>\n",
       "      <td>NaN</td>\n",
       "      <td>NaN</td>\n",
       "    </tr>\n",
       "    <tr>\n",
       "      <th>2</th>\n",
       "      <td>3</td>\n",
       "      <td>Mount Hagen Kagamuga Airport</td>\n",
       "      <td>Mount Hagen</td>\n",
       "      <td>Papua New Guinea</td>\n",
       "      <td>HGU</td>\n",
       "      <td>AYMH</td>\n",
       "      <td>NaN</td>\n",
       "      <td>NaN</td>\n",
       "    </tr>\n",
       "    <tr>\n",
       "      <th>3</th>\n",
       "      <td>4</td>\n",
       "      <td>Nadzab Airport</td>\n",
       "      <td>Nadzab</td>\n",
       "      <td>Papua New Guinea</td>\n",
       "      <td>LAE</td>\n",
       "      <td>AYNZ</td>\n",
       "      <td>NaN</td>\n",
       "      <td>NaN</td>\n",
       "    </tr>\n",
       "    <tr>\n",
       "      <th>4</th>\n",
       "      <td>5</td>\n",
       "      <td>Port Moresby Jacksons International Airport</td>\n",
       "      <td>Port Moresby</td>\n",
       "      <td>Papua New Guinea</td>\n",
       "      <td>POM</td>\n",
       "      <td>AYPY</td>\n",
       "      <td>NaN</td>\n",
       "      <td>NaN</td>\n",
       "    </tr>\n",
       "  </tbody>\n",
       "</table>\n",
       "</div>"
      ],
      "text/plain": [
       "   id                                         Name         Name2  \\\n",
       "0   1                               Goroka Airport        Goroka   \n",
       "1   2                               Madang Airport        Madang   \n",
       "2   3                 Mount Hagen Kagamuga Airport   Mount Hagen   \n",
       "3   4                               Nadzab Airport        Nadzab   \n",
       "4   5  Port Moresby Jacksons International Airport  Port Moresby   \n",
       "\n",
       "            Country IATA  ICAO  Unnamed: 6  Unnamed: 7  \n",
       "0  Papua New Guinea  GKA  AYGA         NaN         NaN  \n",
       "1  Papua New Guinea  MAG  AYMD         NaN         NaN  \n",
       "2  Papua New Guinea  HGU  AYMH         NaN         NaN  \n",
       "3  Papua New Guinea  LAE  AYNZ         NaN         NaN  \n",
       "4  Papua New Guinea  POM  AYPY         NaN         NaN  "
      ]
     },
     "execution_count": 7,
     "metadata": {},
     "output_type": "execute_result"
    }
   ],
   "source": [
    "df_inicial = pd.read_csv('./Data/airports_2.tsv', sep='\\t', encoding='utf-16')\n",
    "df_inicial.head()"
   ]
  },
  {
   "cell_type": "code",
   "execution_count": 8,
   "metadata": {},
   "outputs": [
    {
     "data": {
      "text/plain": [
       "Index(['Name', 'Name2', 'Country', 'IATA', 'ICAO'], dtype='object')"
      ]
     },
     "execution_count": 8,
     "metadata": {},
     "output_type": "execute_result"
    }
   ],
   "source": [
    "df_inicial = df_inicial[['Name', 'Name2', 'Country', 'IATA', 'ICAO']]\n",
    "df_inicial.columns"
   ]
  },
  {
   "cell_type": "code",
   "execution_count": 9,
   "metadata": {},
   "outputs": [
    {
     "data": {
      "text/plain": [
       "array(['Papua New Guinea', 'Greenland', 'Iceland', 'Canada', 'Algeria',\n",
       "       'Benin', 'Burkina Faso', 'Ghana', \"Cote d'Ivoire\", 'Nigeria',\n",
       "       'Niger', 'Tunisia', 'Togo', 'Belgium', 'Germany', 'Estonia',\n",
       "       'Finland', 'United Kingdom', 'Guernsey', 'Jersey', 'Isle of Man',\n",
       "       'Falkland Islands', 'Netherlands', 'Ireland', 'Denmark',\n",
       "       'Faroe Islands', 'Luxembourg', 'Norway', 'Poland', 'Sweden',\n",
       "       'South Africa', 'Botswana', 'Congo (Brazzaville)',\n",
       "       'Congo (Kinshasa)', 'Swaziland', 'Central African Republic',\n",
       "       'Equatorial Guinea', 'Saint Helena', 'Mauritius',\n",
       "       'British Indian Ocean Territory', 'Cameroon', 'Zambia', 'Comoros',\n",
       "       'Mayotte', 'Reunion', 'Madagascar', 'Angola', 'Gabon',\n",
       "       'Sao Tome and Principe', 'Mozambique', 'Seychelles', 'Chad',\n",
       "       'Zimbabwe', 'Malawi', 'Lesotho', 'Mali', 'Gambia', 'Spain',\n",
       "       'Sierra Leone', 'Guinea-Bissau', 'Liberia', 'Morocco', 'Senegal',\n",
       "       'Mauritania', 'Guinea', 'Cape Verde', 'Ethiopia', 'Burundi',\n",
       "       'Somalia', 'Egypt', 'Kenya', 'Libya', 'Rwanda', 'Sudan',\n",
       "       'South Sudan', 'Tanzania', 'Uganda', 'Albania', 'Bulgaria',\n",
       "       'Cyprus', 'Croatia', 'France', 'Saint Pierre and Miquelon',\n",
       "       'Greece', 'Hungary', 'Italy', 'Slovenia', 'Czech Republic',\n",
       "       'Israel', 'Malta', 'Austria', 'Portugal', 'Bosnia and Herzegovina',\n",
       "       'Romania', 'Switzerland', 'Turkey', 'Moldova', 'Macedonia',\n",
       "       'Gibraltar', 'Serbia', 'Montenegro', 'Slovakia',\n",
       "       'Turks and Caicos Islands', 'Dominican Republic', 'Guatemala',\n",
       "       'Honduras', 'Jamaica', 'Mexico', 'Nicaragua', 'Panama',\n",
       "       'Costa Rica', 'El Salvador', 'Haiti', 'Cuba', 'Cayman Islands',\n",
       "       'Bahamas', 'Belize', 'Cook Islands', 'Fiji', 'Tonga', 'Kiribati',\n",
       "       'Wallis and Futuna', 'Samoa', 'American Samoa', 'French Polynesia',\n",
       "       'Vanuatu', 'New Caledonia', 'New Zealand', 'Antarctica',\n",
       "       'Afghanistan', 'Bahrain', 'Saudi Arabia', 'Iran', 'Jordan',\n",
       "       'West Bank', 'Kuwait', 'Lebanon', 'United Arab Emirates', 'Oman',\n",
       "       'Pakistan', 'Iraq', 'Syria', 'Qatar', 'Northern Mariana Islands',\n",
       "       'Guam', 'Marshall Islands', 'Midway Islands', 'Micronesia',\n",
       "       'Palau', 'Taiwan', 'Japan', 'South Korea', 'Philippines',\n",
       "       'Argentina', 'Brazil', 'Chile', 'Ecuador', 'Paraguay', 'Colombia',\n",
       "       'Bolivia', 'Suriname', 'French Guiana', 'Peru', 'Uruguay',\n",
       "       'Venezuela', 'Guyana', 'Antigua and Barbuda', 'Barbados',\n",
       "       'Dominica', 'Martinique', 'Guadeloupe', 'Grenada',\n",
       "       'Virgin Islands', 'Puerto Rico', 'Saint Kitts and Nevis',\n",
       "       'Saint Lucia', 'Aruba', 'Netherlands Antilles', 'Anguilla',\n",
       "       'Trinidad and Tobago', 'British Virgin Islands',\n",
       "       'Saint Vincent and the Grenadines', 'Kazakhstan', 'Kyrgyzstan',\n",
       "       'Azerbaijan', 'Russia', 'Ukraine', 'Belarus', 'Turkmenistan',\n",
       "       'Tajikistan', 'Uzbekistan', 'India', 'Sri Lanka', 'Cambodia',\n",
       "       'Bangladesh', 'Hong Kong', 'Laos', 'Macau', 'Nepal', 'Bhutan',\n",
       "       'Maldives', 'Thailand', 'Vietnam', 'Burma', 'Indonesia',\n",
       "       'Malaysia', 'Brunei', 'East Timor', 'Singapore', 'Australia',\n",
       "       'Christmas Island', 'Norfolk Island', 'China', 'North Korea',\n",
       "       'Mongolia', 'United States', 'Latvia', 'Lithuania', 'Armenia',\n",
       "       'Eritrea', 'Palestine', 'Georgia', 'Yemen', 'Bermuda',\n",
       "       'Solomon Islands', 'Nauru', 'Tuvalu', 'Namibia', 'Djibouti',\n",
       "       'Montserrat', 'Johnston Atoll', 'Western Sahara', 'Niue',\n",
       "       'Cocos (Keeling) Islands', 'Myanmar', 'Svalbard', 'Wake Island'],\n",
       "      dtype=object)"
      ]
     },
     "execution_count": 9,
     "metadata": {},
     "output_type": "execute_result"
    }
   ],
   "source": [
    "df_inicial['Country'].unique()"
   ]
  },
  {
   "cell_type": "markdown",
   "metadata": {},
   "source": [
    "## Parse of Europe"
   ]
  },
  {
   "cell_type": "code",
   "execution_count": 18,
   "metadata": {},
   "outputs": [],
   "source": [
    "df_final = df_inicial.loc[df_inicial['Country'].isin(['Iceland', 'Belgium', 'Germany', 'Estonia', 'Finland', 'United Kingdom', \n",
    "                                     'Netherlands', 'Ireland', 'Denmark', 'Faroe Islands', 'Luxembourg', 'Norway', 'Poland', \n",
    "                                     'Sweden', 'Spain', 'Cyprus', 'Croatia', 'France', 'Greece', 'Hungary', 'Italy', 'Slovenia',\n",
    "                                     'Czech Republic', 'Malta', 'Austria', 'Portugal', 'Bosnia and Herzegovina', 'Romania',\n",
    "                                     'Switzerland', 'Turkey', 'Moldova', 'Macedonnia', 'Gibraltar', 'Serbia', 'Montenegro',\n",
    "                                     'Latvia', 'Lithuania', 'Armenia', 'Slovakia', 'Russia', 'Ukraine','Belarus', 'Svalbard', \n",
    "                                     'Isle of Man', 'Guernsey'])]"
   ]
  },
  {
   "cell_type": "code",
   "execution_count": 19,
   "metadata": {},
   "outputs": [
    {
     "data": {
      "text/plain": [
       "(1830, 5)"
      ]
     },
     "execution_count": 19,
     "metadata": {},
     "output_type": "execute_result"
    }
   ],
   "source": [
    "df_final.shape"
   ]
  },
  {
   "cell_type": "code",
   "execution_count": 20,
   "metadata": {},
   "outputs": [
    {
     "data": {
      "text/html": [
       "<div>\n",
       "<style scoped>\n",
       "    .dataframe tbody tr th:only-of-type {\n",
       "        vertical-align: middle;\n",
       "    }\n",
       "\n",
       "    .dataframe tbody tr th {\n",
       "        vertical-align: top;\n",
       "    }\n",
       "\n",
       "    .dataframe thead th {\n",
       "        text-align: right;\n",
       "    }\n",
       "</style>\n",
       "<table border=\"1\" class=\"dataframe\">\n",
       "  <thead>\n",
       "    <tr style=\"text-align: right;\">\n",
       "      <th></th>\n",
       "      <th>Name</th>\n",
       "      <th>Name2</th>\n",
       "      <th>Country</th>\n",
       "      <th>IATA</th>\n",
       "      <th>ICAO</th>\n",
       "    </tr>\n",
       "  </thead>\n",
       "  <tbody>\n",
       "    <tr>\n",
       "      <th>10</th>\n",
       "      <td>Akureyri Airport</td>\n",
       "      <td>Akureyri</td>\n",
       "      <td>Iceland</td>\n",
       "      <td>AEY</td>\n",
       "      <td>BIAR</td>\n",
       "    </tr>\n",
       "    <tr>\n",
       "      <th>11</th>\n",
       "      <td>Egilsstaðir Airport</td>\n",
       "      <td>Egilsstadir</td>\n",
       "      <td>Iceland</td>\n",
       "      <td>EGS</td>\n",
       "      <td>BIEG</td>\n",
       "    </tr>\n",
       "    <tr>\n",
       "      <th>12</th>\n",
       "      <td>Hornafjörður Airport</td>\n",
       "      <td>Hofn</td>\n",
       "      <td>Iceland</td>\n",
       "      <td>HFN</td>\n",
       "      <td>BIHN</td>\n",
       "    </tr>\n",
       "    <tr>\n",
       "      <th>13</th>\n",
       "      <td>Húsavík Airport</td>\n",
       "      <td>Husavik</td>\n",
       "      <td>Iceland</td>\n",
       "      <td>HZK</td>\n",
       "      <td>BIHU</td>\n",
       "    </tr>\n",
       "    <tr>\n",
       "      <th>14</th>\n",
       "      <td>Ísafjörður Airport</td>\n",
       "      <td>Isafjordur</td>\n",
       "      <td>Iceland</td>\n",
       "      <td>IFJ</td>\n",
       "      <td>BIIS</td>\n",
       "    </tr>\n",
       "  </tbody>\n",
       "</table>\n",
       "</div>"
      ],
      "text/plain": [
       "                    Name        Name2  Country IATA  ICAO\n",
       "10      Akureyri Airport     Akureyri  Iceland  AEY  BIAR\n",
       "11   Egilsstaðir Airport  Egilsstadir  Iceland  EGS  BIEG\n",
       "12  Hornafjörður Airport         Hofn  Iceland  HFN  BIHN\n",
       "13       Húsavík Airport      Husavik  Iceland  HZK  BIHU\n",
       "14    Ísafjörður Airport   Isafjordur  Iceland  IFJ  BIIS"
      ]
     },
     "execution_count": 20,
     "metadata": {},
     "output_type": "execute_result"
    }
   ],
   "source": [
    "df_final.head()"
   ]
  },
  {
   "cell_type": "code",
   "execution_count": 21,
   "metadata": {},
   "outputs": [],
   "source": [
    "df_final.to_csv('./data/airports_europe.csv', sep=',')"
   ]
  },
  {
   "cell_type": "markdown",
   "metadata": {},
   "source": [
    "## Parse of Asia/Oceania"
   ]
  },
  {
   "cell_type": "code",
   "execution_count": 22,
   "metadata": {},
   "outputs": [],
   "source": [
    "df_final = df_inicial.loc[df_inicial['Country'].isin([ 'Papua New Guinea', 'British Indian Ocean Territory', 'Turkey', \n",
    "                                                       'Fiji','Vanuatu', 'New Caledonia', 'New Zealand', 'Antarctica',\n",
    "                                                       'Afghanistan', 'Bahrain', 'Saudi Arabia', 'Iran', 'Jordan',\n",
    "                                                       'West Bank', 'Kuwait', 'Lebanon', 'United Arab Emirates', 'Oman',\n",
    "                                                       'Pakistan', 'Iraq', 'Syria', 'Qatar', 'Northern Mariana Islands',\n",
    "                                                       'Guam', 'Marshall Islands', 'Midway Islands', 'Micronesia',\n",
    "                                                       'Palau', 'Taiwan', 'Japan', 'South Korea', 'Philippines',\n",
    "                                                       'Kazakhstan', 'Kyrgyzstan','Azerbaijan', 'Turkmenistan',\n",
    "                                                       'Tajikistan', 'Uzbekistan', 'India', 'Sri Lanka', 'Cambodia',\n",
    "                                                       'Bangladesh', 'Hong Kong', 'Laos', 'Macau', 'Nepal', 'Bhutan',\n",
    "                                                       'Maldives', 'Thailand', 'Vietnam', 'Burma', 'Indonesia',\n",
    "                                                       'Malaysia', 'Brunei', 'East Timor', 'Singapore', 'Australia',\n",
    "                                                       'Christmas Island', 'Norfolk Island', 'China', 'North Korea',\n",
    "                                                       'Mongolia','Eritrea', 'Palestine', 'Georgia', 'Yemen', 'Bermuda',\n",
    "                                                       'Solomon Islands', 'Nauru', 'Tuvalu', 'Namibia', 'Djibouti',\n",
    "                                                       'Johnston Atoll', 'Niue','Cocos (Keeling) Islands', 'Myanmar', \n",
    "                                                       'Wake Island' ])]"
   ]
  },
  {
   "cell_type": "code",
   "execution_count": 23,
   "metadata": {},
   "outputs": [
    {
     "data": {
      "text/plain": [
       "(2030, 5)"
      ]
     },
     "execution_count": 23,
     "metadata": {},
     "output_type": "execute_result"
    }
   ],
   "source": [
    "df_final.shape"
   ]
  },
  {
   "cell_type": "code",
   "execution_count": 24,
   "metadata": {},
   "outputs": [
    {
     "data": {
      "text/html": [
       "<div>\n",
       "<style scoped>\n",
       "    .dataframe tbody tr th:only-of-type {\n",
       "        vertical-align: middle;\n",
       "    }\n",
       "\n",
       "    .dataframe tbody tr th {\n",
       "        vertical-align: top;\n",
       "    }\n",
       "\n",
       "    .dataframe thead th {\n",
       "        text-align: right;\n",
       "    }\n",
       "</style>\n",
       "<table border=\"1\" class=\"dataframe\">\n",
       "  <thead>\n",
       "    <tr style=\"text-align: right;\">\n",
       "      <th></th>\n",
       "      <th>Name</th>\n",
       "      <th>Name2</th>\n",
       "      <th>Country</th>\n",
       "      <th>IATA</th>\n",
       "      <th>ICAO</th>\n",
       "    </tr>\n",
       "  </thead>\n",
       "  <tbody>\n",
       "    <tr>\n",
       "      <th>875</th>\n",
       "      <td>Diego Garcia Naval Support Facility</td>\n",
       "      <td>Diego Garcia Island</td>\n",
       "      <td>British Indian Ocean Territory</td>\n",
       "      <td>NKW</td>\n",
       "      <td>FJDG</td>\n",
       "    </tr>\n",
       "    <tr>\n",
       "      <th>1636</th>\n",
       "      <td>Güvercinlik Airport</td>\n",
       "      <td>Ankara</td>\n",
       "      <td>Turkey</td>\n",
       "      <td>\\N</td>\n",
       "      <td>LTAB</td>\n",
       "    </tr>\n",
       "    <tr>\n",
       "      <th>1637</th>\n",
       "      <td>Esenboğa International Airport</td>\n",
       "      <td>Ankara</td>\n",
       "      <td>Turkey</td>\n",
       "      <td>ESB</td>\n",
       "      <td>LTAC</td>\n",
       "    </tr>\n",
       "    <tr>\n",
       "      <th>1638</th>\n",
       "      <td>Etimesgut Air Base</td>\n",
       "      <td>Ankara</td>\n",
       "      <td>Turkey</td>\n",
       "      <td>ANK</td>\n",
       "      <td>LTAD</td>\n",
       "    </tr>\n",
       "    <tr>\n",
       "      <th>1639</th>\n",
       "      <td>Akıncı Air Base</td>\n",
       "      <td>Ankara</td>\n",
       "      <td>Turkey</td>\n",
       "      <td>\\N</td>\n",
       "      <td>LTAE</td>\n",
       "    </tr>\n",
       "  </tbody>\n",
       "</table>\n",
       "</div>"
      ],
      "text/plain": [
       "                                     Name                Name2  \\\n",
       "875   Diego Garcia Naval Support Facility  Diego Garcia Island   \n",
       "1636                  Güvercinlik Airport               Ankara   \n",
       "1637       Esenboğa International Airport               Ankara   \n",
       "1638                   Etimesgut Air Base               Ankara   \n",
       "1639                      Akıncı Air Base               Ankara   \n",
       "\n",
       "                             Country IATA  ICAO  \n",
       "875   British Indian Ocean Territory  NKW  FJDG  \n",
       "1636                          Turkey   \\N  LTAB  \n",
       "1637                          Turkey  ESB  LTAC  \n",
       "1638                          Turkey  ANK  LTAD  \n",
       "1639                          Turkey   \\N  LTAE  "
      ]
     },
     "execution_count": 24,
     "metadata": {},
     "output_type": "execute_result"
    }
   ],
   "source": [
    "df_final.head()"
   ]
  },
  {
   "cell_type": "code",
   "execution_count": 25,
   "metadata": {},
   "outputs": [],
   "source": [
    "df_final.to_csv('./data/airports_asia_oceania.csv', sep=',')"
   ]
  },
  {
   "cell_type": "markdown",
   "metadata": {},
   "source": [
    "## Parse of America"
   ]
  },
  {
   "cell_type": "code",
   "execution_count": 26,
   "metadata": {},
   "outputs": [],
   "source": [
    "df_final = df_inicial.loc[df_inicial['Country'].isin([ 'Greenland', 'Canada',\n",
    "                                                       'Saint Pierre and Miquelon', 'Turks and Caicos Islands', \n",
    "                                                       'Dominican Republic', 'Guatemala',\n",
    "                                                       'Honduras', 'Jamaica', 'Mexico', 'Nicaragua', 'Panama',\n",
    "                                                       'Costa Rica', 'El Salvador', 'Haiti', 'Cuba', 'Cayman Islands',\n",
    "                                                       'Bahamas', 'Belize', 'French Polynesia',\n",
    "                                                       'Argentina', 'Brazil', 'Chile', 'Ecuador', 'Paraguay', 'Colombia',\n",
    "                                                       'Bolivia', 'Suriname', 'French Guiana', 'Peru', 'Uruguay',\n",
    "                                                       'Venezuela', 'Guyana', 'Antigua and Barbuda', 'Barbados',\n",
    "                                                       'Dominica', 'Martinique', 'Guadeloupe', 'Grenada',\n",
    "                                                       'Virgin Islands', 'Puerto Rico', 'Saint Kitts and Nevis',\n",
    "                                                       'Saint Lucia', 'Aruba', 'Netherlands Antilles', 'Anguilla',\n",
    "                                                       'Trinidad and Tobago', 'British Virgin Islands',\n",
    "                                                       'Saint Vincent and the Grenadines', 'United States'])]"
   ]
  },
  {
   "cell_type": "code",
   "execution_count": 27,
   "metadata": {},
   "outputs": [
    {
     "data": {
      "text/plain": [
       "(3065, 5)"
      ]
     },
     "execution_count": 27,
     "metadata": {},
     "output_type": "execute_result"
    }
   ],
   "source": [
    "df_final.shape"
   ]
  },
  {
   "cell_type": "code",
   "execution_count": 28,
   "metadata": {},
   "outputs": [
    {
     "data": {
      "text/html": [
       "<div>\n",
       "<style scoped>\n",
       "    .dataframe tbody tr th:only-of-type {\n",
       "        vertical-align: middle;\n",
       "    }\n",
       "\n",
       "    .dataframe tbody tr th {\n",
       "        vertical-align: top;\n",
       "    }\n",
       "\n",
       "    .dataframe thead th {\n",
       "        text-align: right;\n",
       "    }\n",
       "</style>\n",
       "<table border=\"1\" class=\"dataframe\">\n",
       "  <thead>\n",
       "    <tr style=\"text-align: right;\">\n",
       "      <th></th>\n",
       "      <th>Name</th>\n",
       "      <th>Name2</th>\n",
       "      <th>Country</th>\n",
       "      <th>IATA</th>\n",
       "      <th>ICAO</th>\n",
       "    </tr>\n",
       "  </thead>\n",
       "  <tbody>\n",
       "    <tr>\n",
       "      <th>6</th>\n",
       "      <td>Narsarsuaq Airport</td>\n",
       "      <td>Narssarssuaq</td>\n",
       "      <td>Greenland</td>\n",
       "      <td>UAK</td>\n",
       "      <td>BGBW</td>\n",
       "    </tr>\n",
       "    <tr>\n",
       "      <th>7</th>\n",
       "      <td>Godthaab / Nuuk Airport</td>\n",
       "      <td>Godthaab</td>\n",
       "      <td>Greenland</td>\n",
       "      <td>GOH</td>\n",
       "      <td>BGGH</td>\n",
       "    </tr>\n",
       "    <tr>\n",
       "      <th>8</th>\n",
       "      <td>Kangerlussuaq Airport</td>\n",
       "      <td>Sondrestrom</td>\n",
       "      <td>Greenland</td>\n",
       "      <td>SFJ</td>\n",
       "      <td>BGSF</td>\n",
       "    </tr>\n",
       "    <tr>\n",
       "      <th>9</th>\n",
       "      <td>Thule Air Base</td>\n",
       "      <td>Thule</td>\n",
       "      <td>Greenland</td>\n",
       "      <td>THU</td>\n",
       "      <td>BGTL</td>\n",
       "    </tr>\n",
       "    <tr>\n",
       "      <th>20</th>\n",
       "      <td>Sault Ste Marie Airport</td>\n",
       "      <td>Sault Sainte Marie</td>\n",
       "      <td>Canada</td>\n",
       "      <td>YAM</td>\n",
       "      <td>CYAM</td>\n",
       "    </tr>\n",
       "  </tbody>\n",
       "</table>\n",
       "</div>"
      ],
      "text/plain": [
       "                       Name               Name2    Country IATA  ICAO\n",
       "6        Narsarsuaq Airport        Narssarssuaq  Greenland  UAK  BGBW\n",
       "7   Godthaab / Nuuk Airport            Godthaab  Greenland  GOH  BGGH\n",
       "8     Kangerlussuaq Airport         Sondrestrom  Greenland  SFJ  BGSF\n",
       "9            Thule Air Base               Thule  Greenland  THU  BGTL\n",
       "20  Sault Ste Marie Airport  Sault Sainte Marie     Canada  YAM  CYAM"
      ]
     },
     "execution_count": 28,
     "metadata": {},
     "output_type": "execute_result"
    }
   ],
   "source": [
    "df_final.head()"
   ]
  },
  {
   "cell_type": "code",
   "execution_count": 29,
   "metadata": {},
   "outputs": [],
   "source": [
    "df_final.to_csv('./data/airports_america.csv', sep=',')"
   ]
  },
  {
   "cell_type": "markdown",
   "metadata": {},
   "source": [
    "## Parse of Africa"
   ]
  },
  {
   "cell_type": "code",
   "execution_count": null,
   "metadata": {},
   "outputs": [],
   "source": [
    "df_final = df_inicial.loc[df_inicial['Country'].isin([ 'Algeria',\n",
    "                                                       'Benin', 'Burkina Faso', 'Ghana', \"Cote d'Ivoire\", 'Nigeria',\n",
    "                                                       'Niger', 'Tunisia', 'Togo',\n",
    "                                                       'South Africa', 'Botswana', 'Congo (Brazzaville)',\n",
    "                                                       'Congo (Kinshasa)', 'Swaziland', 'Central African Republic',\n",
    "                                                       'Equatorial Guinea', 'Saint Helena', 'Mauritius',\n",
    "                                                       'British Indian Ocean Territory', 'Cameroon', 'Zambia', 'Comoros',\n",
    "                                                       'Mayotte', 'Reunion', 'Madagascar', 'Angola', 'Gabon',\n",
    "                                                       'Sao Tome and Principe', 'Mozambique', 'Seychelles', 'Chad',\n",
    "                                                       'Zimbabwe', 'Malawi', 'Lesotho', 'Mali', 'Gambia',\n",
    "                                                       'Sierra Leone', 'Guinea-Bissau', 'Liberia', 'Morocco', 'Senegal',\n",
    "                                                       'Mauritania', 'Guinea', 'Cape Verde', 'Ethiopia', 'Burundi',\n",
    "                                                       'Somalia', 'Egypt', 'Kenya', 'Libya', 'Rwanda', 'Sudan',\n",
    "                                                       'South Sudan', 'Tanzania', 'Uganda', 'Western Sahara'])]"
   ]
  }
 ],
 "metadata": {
  "kernelspec": {
   "display_name": "Python 3",
   "language": "python",
   "name": "python3"
  },
  "language_info": {
   "codemirror_mode": {
    "name": "ipython",
    "version": 3
   },
   "file_extension": ".py",
   "mimetype": "text/x-python",
   "name": "python",
   "nbconvert_exporter": "python",
   "pygments_lexer": "ipython3",
   "version": "3.8.2"
  }
 },
 "nbformat": 4,
 "nbformat_minor": 4
}
