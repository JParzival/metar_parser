{
 "cells": [
  {
   "cell_type": "code",
   "execution_count": 1,
   "metadata": {},
   "outputs": [],
   "source": [
    "import pandas as pd\n",
    "import requests\n",
    "import json\n",
    "from simplejson import JSONDecodeError\n",
    "import warnings\n",
    "import psycopg2\n",
    "import yaml"
   ]
  },
  {
   "cell_type": "code",
   "execution_count": 2,
   "metadata": {},
   "outputs": [],
   "source": [
    "airports_spain = pd.read_csv('./data/airports_spain.csv')[['ICAO', 'City']]"
   ]
  },
  {
   "cell_type": "code",
   "execution_count": 3,
   "metadata": {},
   "outputs": [],
   "source": [
    "#https://avwx.rest/\n",
    "\n",
    "with open('./keys/keys.yml') as file:\n",
    "    keys = yaml.load(file)\n",
    "\n",
    "headers = {\n",
    "  'Authorization': keys['key1'],\n",
    "  'Content-Type': 'application/json'\n",
    "}\n",
    "\n",
    "headers2 = {\n",
    "  'Authorization': keys['key2'],\n",
    "  'Content-Type': 'application/json'\n",
    "}\n",
    "\n",
    "reporting = \"true\"\n",
    "formatting = \"json\"\n",
    "onfail = \"cache\""
   ]
  },
  {
   "cell_type": "code",
   "execution_count": 4,
   "metadata": {},
   "outputs": [],
   "source": [
    "conn = psycopg2.connect(\n",
    "    host=keys['pghost'],\n",
    "    database=\"metar\",\n",
    "    port=35728,\n",
    "    user=keys['pguser'],\n",
    "    password=keys['pgpass'])"
   ]
  },
  {
   "cell_type": "code",
   "execution_count": 5,
   "metadata": {},
   "outputs": [],
   "source": [
    "def parseo (url, city):\n",
    "    \n",
    "    #Request\n",
    "    response = requests.get( url, headers = headers, verify=False )\n",
    "    if response.status_code == 200:\n",
    "        json_response = json.loads(response.text)\n",
    "\n",
    "        #Parsing\n",
    "        metar = json_response['raw']\n",
    "        station = json_response['station']\n",
    "        pressure = json_response['altimeter']['value']\n",
    "        pressure_unit = json_response['units']['altimeter']\n",
    "        wind_direction = json_response['wind_direction']['value']\n",
    "        wind_unit = 'º'\n",
    "        wind_speed = json_response['wind_speed']['value'] \n",
    "        wind_speed_unit = json_response['units']['wind_speed']\n",
    "        visibility_str = json_response['visibility']['repr']\n",
    "        visibility_number = json_response['visibility']['value']\n",
    "        visibility_unit = json_response['units']['visibility']\n",
    "        temperature = json_response['temperature']['value'] \n",
    "        temperature_unit = json_response['units']['temperature']\n",
    "        remarks = json_response['remarks']\n",
    "        flight_rules = json_response['flight_rules']\n",
    "        time = json_response['time']['dt']\n",
    "        identificadorUnico = str(time) + station\n",
    "\n",
    "        clouds = []\n",
    "        if not json_response['clouds']:\n",
    "            clouds = [\"No clouds\"]\n",
    "        else:\n",
    "            for element in json_response['clouds']:\n",
    "                clouds.append(element['repr'])\n",
    "        if json_response['wind_gust'] == None:\n",
    "            json_response['wind_gust'] = 0\n",
    "        wind_gust = json_response['wind_gust']\n",
    "        wind_gust_unit = json_response['units']['wind_speed']\n",
    "        try: \n",
    "            wind_direction_var_1 = json_response['wind_variable_direction'][0]['value']\n",
    "            wind_direction_var_1_unit = 'º'\n",
    "        except:\n",
    "            wind_direction_var_1 = None\n",
    "            wind_direction_var_1_unit = None\n",
    "        try: \n",
    "            wind_direction_var_2 = json_response['wind_variable_direction'][1]['value']\n",
    "            wind_direction_var_2_unit = 'º'\n",
    "        except:\n",
    "            wind_direction_var_2 = None\n",
    "            wind_direction_var_2_unit = None\n",
    "\n",
    "        #Storing\n",
    "        readyforinsertion = (identificadorUnico, metar, time, station, city, pressure, pressure_unit, clouds, wind_direction, wind_unit, wind_speed, wind_speed_unit, wind_direction_var_1, wind_direction_var_1_unit, \n",
    "                                wind_direction_var_2, wind_direction_var_2_unit, visibility_str, visibility_number, visibility_unit, temperature, temperature_unit, remarks, flight_rules)\n",
    "        return readyforinsertion\n",
    "    else:\n",
    "       return None"
   ]
  },
  {
   "cell_type": "code",
   "execution_count": 6,
   "metadata": {
    "tags": []
   },
   "outputs": [],
   "source": [
    "with open('./sql.yml') as file:\n",
    "    sql_sentences = yaml.load(file)\n",
    "\n",
    "try:\n",
    "    cur = conn.cursor()\n",
    "    cur.execute(sql_sentences['create_table'])\n",
    "    conn.commit()\n",
    "    cur.close()\n",
    "except:\n",
    "    print(\"Rollback\")\n",
    "    conn.rollback()"
   ]
  },
  {
   "cell_type": "code",
   "execution_count": 29,
   "metadata": {
    "tags": []
   },
   "outputs": [
    {
     "output_type": "stream",
     "name": "stdout",
     "text": "('2020-08-10T14:00:00ZGCFV', 'GCFV 101400Z 05017KT CAVOK 26/20 Q1014', '2020-08-10T14:00:00Z', 'GCFV', 'Fuerteventura', 1014, 'hPa', ['No clouds'], 50, 'º', 17, 'kt', None, None, None, None, 'CAVOK', 9999, 'm', 26, 'C', '', 'VFR')\nRollback\nconnection already closed\n"
    },
    {
     "output_type": "error",
     "ename": "InterfaceError",
     "evalue": "connection already closed",
     "traceback": [
      "\u001b[1;31m---------------------------------------------------------------------------\u001b[0m",
      "\u001b[1;31mInterfaceError\u001b[0m                            Traceback (most recent call last)",
      "\u001b[1;32m<ipython-input-29-3de667659841>\u001b[0m in \u001b[0;36m<module>\u001b[1;34m\u001b[0m\n\u001b[0;32m     11\u001b[0m         \u001b[1;32mtry\u001b[0m\u001b[1;33m:\u001b[0m\u001b[1;33m\u001b[0m\u001b[1;33m\u001b[0m\u001b[0m\n\u001b[1;32m---> 12\u001b[1;33m             \u001b[0mcur\u001b[0m \u001b[1;33m=\u001b[0m \u001b[0mconn\u001b[0m\u001b[1;33m.\u001b[0m\u001b[0mcursor\u001b[0m\u001b[1;33m(\u001b[0m\u001b[1;33m)\u001b[0m\u001b[1;33m\u001b[0m\u001b[1;33m\u001b[0m\u001b[0m\n\u001b[0m\u001b[0;32m     13\u001b[0m             \u001b[0mcur\u001b[0m\u001b[1;33m.\u001b[0m\u001b[0mexecute\u001b[0m\u001b[1;33m(\u001b[0m\u001b[0msql_sentences\u001b[0m\u001b[1;33m[\u001b[0m\u001b[1;34m'insert_table'\u001b[0m\u001b[1;33m]\u001b[0m\u001b[1;33m,\u001b[0m \u001b[0mdata\u001b[0m\u001b[1;33m)\u001b[0m\u001b[1;33m\u001b[0m\u001b[1;33m\u001b[0m\u001b[0m\n",
      "\u001b[1;31mInterfaceError\u001b[0m: connection already closed",
      "\nDuring handling of the above exception, another exception occurred:\n",
      "\u001b[1;31mInterfaceError\u001b[0m                            Traceback (most recent call last)",
      "\u001b[1;32m<ipython-input-29-3de667659841>\u001b[0m in \u001b[0;36m<module>\u001b[1;34m\u001b[0m\n\u001b[0;32m     18\u001b[0m             \u001b[0mprint\u001b[0m\u001b[1;33m(\u001b[0m\u001b[1;34m\"Rollback\"\u001b[0m\u001b[1;33m)\u001b[0m\u001b[1;33m\u001b[0m\u001b[1;33m\u001b[0m\u001b[0m\n\u001b[0;32m     19\u001b[0m             \u001b[0mprint\u001b[0m\u001b[1;33m(\u001b[0m\u001b[0me\u001b[0m\u001b[1;33m)\u001b[0m\u001b[1;33m\u001b[0m\u001b[1;33m\u001b[0m\u001b[0m\n\u001b[1;32m---> 20\u001b[1;33m             \u001b[0mconn\u001b[0m\u001b[1;33m.\u001b[0m\u001b[0mrollback\u001b[0m\u001b[1;33m(\u001b[0m\u001b[1;33m)\u001b[0m\u001b[1;33m\u001b[0m\u001b[1;33m\u001b[0m\u001b[0m\n\u001b[0m",
      "\u001b[1;31mInterfaceError\u001b[0m: connection already closed"
     ]
    }
   ],
   "source": [
    "warnings.simplefilter(\"ignore\")\n",
    "\n",
    "for airport in airports_spain.itertuples():\n",
    "    url = \"https://avwx.rest/api/metar/\" + airport[1] + \"?reporting=\" + reporting + \"&format=\" + formatting + \"&onfail=\" + onfail\n",
    "    data = parseo(url, airport[2])\n",
    "    if data == None:\n",
    "        print('Airport ' + airport[1] + ' data not found')\n",
    "        continue\n",
    "    else:\n",
    "        print(data)\n",
    "        try:\n",
    "            cur = conn.cursor()\n",
    "            cur.execute(sql_sentences['insert_table'], data)\n",
    "            conn.commit()\n",
    "            print(\"Insertada\")\n",
    "            cur.close()\n",
    "        except Exception as e:\n",
    "            print(\"Rollback\")\n",
    "            print(e)\n",
    "            conn.rollback()"
   ]
  },
  {
   "cell_type": "code",
   "execution_count": null,
   "metadata": {},
   "outputs": [],
   "source": [
    "conn.close()"
   ]
  },
  {
   "cell_type": "code",
   "execution_count": null,
   "metadata": {},
   "outputs": [],
   "source": []
  },
  {
   "cell_type": "code",
   "execution_count": null,
   "metadata": {},
   "outputs": [],
   "source": []
  },
  {
   "cell_type": "code",
   "execution_count": null,
   "metadata": {},
   "outputs": [],
   "source": []
  },
  {
   "cell_type": "code",
   "execution_count": null,
   "metadata": {},
   "outputs": [],
   "source": []
  },
  {
   "cell_type": "code",
   "execution_count": null,
   "metadata": {},
   "outputs": [],
   "source": []
  },
  {
   "cell_type": "code",
   "execution_count": null,
   "metadata": {},
   "outputs": [],
   "source": []
  },
  {
   "cell_type": "code",
   "execution_count": null,
   "metadata": {},
   "outputs": [],
   "source": []
  }
 ],
 "metadata": {
  "kernelspec": {
   "display_name": "Python 3",
   "language": "python",
   "name": "python3"
  },
  "language_info": {
   "codemirror_mode": {
    "name": "ipython",
    "version": 3
   },
   "file_extension": ".py",
   "mimetype": "text/x-python",
   "name": "python",
   "nbconvert_exporter": "python",
   "pygments_lexer": "ipython3",
   "version": "3.8.2"
  }
 },
 "nbformat": 4,
 "nbformat_minor": 4
}